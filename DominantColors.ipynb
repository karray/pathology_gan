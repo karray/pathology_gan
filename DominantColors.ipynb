{
 "cells": [
  {
   "cell_type": "code",
   "execution_count": null,
   "metadata": {},
   "outputs": [],
   "source": [
    "from sklearn.cluster import KMeans\n",
    "import scipy\n",
    "from scipy.cluster.vq import kmeans, whiten, vq\n",
    "from mpl_toolkits.mplot3d import Axes3D\n",
    "a = x_train_10\n",
    "b = a.reshape(-1, 64*64, 3)\n",
    "# w = whiten(b)\n",
    "\n",
    "# stds = np.std(b, axis=1)\n",
    "\n",
    "m = b.mean(axis=1)\n",
    "print(m.shape)\n",
    "b.shape"
   ]
  },
  {
   "cell_type": "code",
   "execution_count": null,
   "metadata": {},
   "outputs": [],
   "source": [
    "def get_dominant_color(img_vector, k_means=3):\n",
    "    cluster_centers, distortion = kmeans(img_vector.astype(np.float32),k_means)\n",
    "    vecs, dist = vq(img_vector, cluster_centers)         # assign codes\n",
    "    counts, bins = scipy.histogram(vecs, len(cluster_centers))\n",
    "    return cluster_centers[scipy.argmax(counts)]"
   ]
  },
  {
   "cell_type": "code",
   "execution_count": null,
   "metadata": {},
   "outputs": [],
   "source": [
    "dominants = np.array([get_dominant_color(img) for img in b])\n",
    "dominants.shape"
   ]
  },
  {
   "cell_type": "code",
   "execution_count": null,
   "metadata": {},
   "outputs": [],
   "source": [
    "cluster_centers, _ = kmeans(dominants.astype(np.float32), 4)\n",
    "\n",
    "vecs, dist = scipy.cluster.vq.vq(b[i], cluster_centers)         # assign codes\n",
    "counts, bins = scipy.histogram(vecs, len(cluster_centers))    # count occurrences\n",
    "\n",
    "# plt.figure(figsize=(5,2))\n",
    "# plt.axis('off')\n",
    "# plt.imshow((cluster_centers[scipy.argsort(counts)]/255.0).reshape(1,-1,3))\n",
    "\n",
    "plt.figure()\n",
    "plt.xticks([])\n",
    "plt.bar(range(4),counts[scipy.argsort(counts)], color=(cluster_centers[scipy.argsort(counts)]/255.0))\n"
   ]
  },
  {
   "cell_type": "code",
   "execution_count": null,
   "metadata": {},
   "outputs": [],
   "source": [
    "i = np.random.randint(a.shape[0]-1)\n",
    "\n",
    "cluster_centers, distortion = kmeans(b[i].astype(np.float32), 3)\n",
    "\n",
    "# plt.imshow((cluster_centers*stds[i]/255).reshape(1,-1,3))\n",
    "plt.figure(figsize=(5,2))\n",
    "plt.imshow((cluster_centers[cluster_centers.mean(axis=1).argsort()]/255.0).reshape(1,-1,3))\n",
    "\n",
    "# plt.figure(figsize=(2,2))\n",
    "# plt.imshow(m[i].reshape(1,-1,3)/255)\n",
    "\n",
    "vecs, dist = scipy.cluster.vq.vq(b[i], cluster_centers)         # assign codes\n",
    "counts, bins = scipy.histogram(vecs, len(cluster_centers))    # count occurrences\n",
    "\n",
    "plt.figure(figsize=(2,2))\n",
    "plt.imshow((cluster_centers[scipy.argmax(counts)]/255.0).reshape(1,-1,3))\n",
    "\n",
    "plt.figure(figsize=(5,2))\n",
    "plt.imshow((get_dominant_color(b[i], 3)/255.0).reshape(1,-1,3))\n",
    "\n",
    "\n",
    "plt.figure(figsize=(5,5))\n",
    "plt.imshow(a[i].reshape(64,64,3))\n",
    "# 72, 19, 20, 99, 61, 37\n",
    "\n",
    "i"
   ]
  },
  {
   "cell_type": "code",
   "execution_count": null,
   "metadata": {},
   "outputs": [],
   "source": [
    "i = np.random.randint(a.shape[0]-1)\n",
    "\n",
    "cluster_centers, distortion = kmeans(b[i].astype(np.float32), 3)\n",
    "\n",
    "# plt.imshow((cluster_centers*stds[i]/255).reshape(1,-1,3))\n",
    "plt.figure(figsize=(5,2))\n",
    "plt.imshow((cluster_centers[cluster_centers.mean(axis=1).argsort()]/255.0).reshape(1,-1,3))\n",
    "\n",
    "# plt.figure(figsize=(2,2))\n",
    "# plt.imshow(m[i].reshape(1,-1,3)/255)\n",
    "\n",
    "vecs, dist = scipy.cluster.vq.vq(b[i], cluster_centers)         # assign codes\n",
    "counts, bins = scipy.histogram(vecs, len(cluster_centers))    # count occurrences\n",
    "\n",
    "plt.figure(figsize=(2,2))\n",
    "plt.imshow((cluster_centers[scipy.argmax(counts)]/255.0).reshape(1,-1,3))\n",
    "\n",
    "plt.figure(figsize=(5,2))\n",
    "plt.imshow((get_dominant_color(b[i], 3)/255.0).reshape(1,-1,3))\n",
    "\n",
    "\n",
    "plt.figure(figsize=(5,5))\n",
    "plt.imshow(a[i].reshape(64,64,3))\n",
    "# 72, 19, 20, 99, 61, 37\n",
    "\n",
    "i"
   ]
  },
  {
   "cell_type": "code",
   "execution_count": null,
   "metadata": {},
   "outputs": [],
   "source": [
    "import scipy\n",
    "import binascii\n",
    "vecs, dist = scipy.cluster.vq.vq(b[i], cluster_centers)         # assign codes\n",
    "counts, bins = scipy.histogram(vecs, len(cluster_centers))    # count occurrences\n",
    "\n",
    "index_max = scipy.argmax(counts)                    # find most frequent\n",
    "peak = cluster_centers[index_max]\n",
    "colour = binascii.hexlify(bytearray(int(c) for c in peak)).decode('ascii')\n",
    "print('most frequent is %s (#%s)' % (peak, colour))"
   ]
  },
  {
   "cell_type": "code",
   "execution_count": null,
   "metadata": {},
   "outputs": [],
   "source": [
    "est = KMeans(n_clusters=3, random_state=0).fit(dominants)\n",
    "fig = plt.figure(figsize=(4, 3))\n",
    "ax = Axes3D(fig, rect=[0, 0, .95, 1], elev=48, azim=134)\n",
    "labels = est.labels_\n",
    "\n",
    "ax.scatter(dominants[:, 0], dominants[:,1], dominants[:, 2], c=labels.astype(np.float), edgecolor='k')\n",
    "\n",
    "ax.w_xaxis.set_ticklabels([])\n",
    "ax.w_yaxis.set_ticklabels([])\n",
    "ax.w_zaxis.set_ticklabels([])\n",
    "# ax.set_xlabel('Petal width')\n",
    "# ax.set_ylabel('Sepal length')\n",
    "# ax.set_zlabel('Petal length')\n",
    "print(labels)"
   ]
  },
  {
   "cell_type": "code",
   "execution_count": null,
   "metadata": {},
   "outputs": [],
   "source": [
    "idx = np.where(labels==0)[0]\n",
    "for i in idx:\n",
    "    plt.figure(figsize=(2,2))\n",
    "    plt.imshow(a[i])\n",
    "#     plt.\n",
    "# labels[i]"
   ]
  }
 ],
 "metadata": {
  "kernelspec": {
   "display_name": "Python 3",
   "language": "python",
   "name": "python3"
  },
  "language_info": {
   "codemirror_mode": {
    "name": "ipython",
    "version": 3
   },
   "file_extension": ".py",
   "mimetype": "text/x-python",
   "name": "python",
   "nbconvert_exporter": "python",
   "pygments_lexer": "ipython3",
   "version": "3.5.2"
  }
 },
 "nbformat": 4,
 "nbformat_minor": 4
}
