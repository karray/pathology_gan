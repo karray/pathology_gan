{
 "cells": [
  {
   "cell_type": "code",
   "execution_count": 1,
   "metadata": {},
   "outputs": [
    {
     "name": "stderr",
     "output_type": "stream",
     "text": [
      "Using TensorFlow backend.\n"
     ]
    }
   ],
   "source": [
    "import glob\n",
    "import os\n",
    "import time\n",
    "\n",
    "# from tqdm import tnrange, tqdm_notebook\n",
    "from tqdm import tqdm\n",
    "\n",
    "# from skimage.transform import resize\n",
    "# from skimage import data, color\n",
    "\n",
    "import keras.backend as K\n",
    "from keras.activations import relu\n",
    "from keras.models import Sequential, Model\n",
    "from keras.layers import Input,Dense,Reshape, Flatten, Conv2DTranspose, Dropout,BatchNormalization,Activation,PReLU,LeakyReLU, MaxPooling2D,Add\n",
    "from keras.layers.convolutional import UpSampling2D, Conv2D, MaxPooling2D\n",
    "\n",
    "from keras.optimizers import Adam,RMSprop\n",
    "from keras import initializers\n",
    "from keras.models import load_model\n",
    "\n",
    "from keras.utils import multi_gpu_model\n",
    "from keras.utils.vis_utils import model_to_dot\n",
    "\n",
    "import numpy as np\n",
    "import matplotlib.pyplot as plt\n",
    "import h5py"
   ]
  },
  {
   "cell_type": "code",
   "execution_count": 2,
   "metadata": {},
   "outputs": [],
   "source": [
    "def create_CNN(width, height, channels, kernel_size=3):\n",
    "    model = Sequential()\n",
    "\n",
    "    model.add(Conv2D(32, kernel_size=kernel_size, input_shape=(width, height, channels), padding=\"same\", activation='elu'))\n",
    "    model.add(MaxPooling2D(pool_size = 3))\n",
    "#     model.add(BatchNormalization())\n",
    "    model.add(Dropout(0.15))\n",
    "\n",
    "    model.add(Conv2D(64, kernel_size=kernel_size, padding=\"same\", activation='elu'))\n",
    "    model.add(MaxPooling2D(pool_size = 3))\n",
    "#     model.add(BatchNormalization())\n",
    "    model.add(Dropout(0.15))\n",
    "\n",
    "    model.add(Conv2D(128, kernel_size=kernel_size, padding=\"same\", activation='elu'))\n",
    "    model.add(MaxPooling2D(pool_size = 3))\n",
    "#     model.add(BatchNormalization())\n",
    "    model.add(Dropout(0.15))\n",
    "\n",
    "    model.add(Flatten())\n",
    "    model.add(Dense(128, activation='elu'))\n",
    "#     model.add(BatchNormalization())\n",
    "    model.add(Dropout(0.15))\n",
    "\n",
    "    model.add(Dense(1, activation='sigmoid'))\n",
    "\n",
    "#     print('Critic')\n",
    "    model.summary()\n",
    "    model.compile(loss='binary_crossentropy',optimizer='adam', metrics=['accuracy'])\n",
    "\n",
    "    return model"
   ]
  },
  {
   "cell_type": "code",
   "execution_count": null,
   "metadata": {},
   "outputs": [],
   "source": []
  }
 ],
 "metadata": {
  "kernelspec": {
   "display_name": "Python 3",
   "language": "python",
   "name": "python3"
  },
  "language_info": {
   "codemirror_mode": {
    "name": "ipython",
    "version": 3
   },
   "file_extension": ".py",
   "mimetype": "text/x-python",
   "name": "python",
   "nbconvert_exporter": "python",
   "pygments_lexer": "ipython3",
   "version": "3.6.8"
  }
 },
 "nbformat": 4,
 "nbformat_minor": 2
}
