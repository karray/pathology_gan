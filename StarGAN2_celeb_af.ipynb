{
 "cells": [
  {
   "cell_type": "code",
   "execution_count": 1,
   "metadata": {},
   "outputs": [],
   "source": [
    "import glob\n",
    "import os\n",
    "import time\n",
    "import csv\n",
    "\n",
    "os.environ['CUDA_DEVICE_ORDER'] = 'PCI_BUS_ID' \n",
    "os.environ['CUDA_VISIBLE_DEVICES']='0,1,2,3'\n",
    "# os.environ['CUDA_LAUNCH_BLOCKING'] = \"1\"\n",
    "\n",
    "from stargan2.solver_multi_GPU import Solver\n",
    "\n",
    "import numpy as np\n",
    "\n",
    "import matplotlib.pyplot as plt\n",
    "import torch\n",
    "import torchvision.utils as vutils\n",
    "\n",
    "from torch.backends import cudnn\n",
    "cudnn.benchmark = True"
   ]
  },
  {
   "cell_type": "code",
   "execution_count": 1,
   "metadata": {},
   "outputs": [],
   "source": [
    "import torchvision.datasets as datasets\n",
    "from itertools import groupby\n",
    "import random\n",
    "from torch.utils.data.sampler import WeightedRandomSampler\n",
    "\n",
    "class ReferenceDataset(datasets.DatasetFolder):\n",
    "    def __init__(\n",
    "            self,\n",
    "            root,\n",
    "            transform = None,\n",
    "            target_transform = None,\n",
    "            loader = datasets.folder.default_loader,\n",
    "            is_valid_file = None,\n",
    "    ):\n",
    "        super(ReferenceDataset, self).__init__(root, loader, \n",
    "                                          datasets.folder.IMG_EXTENSIONS if is_valid_file is None else None,\n",
    "                                          transform=transform,\n",
    "                                          target_transform=target_transform,\n",
    "                                          is_valid_file=is_valid_file)\n",
    "        \n",
    "        # group samples by label\n",
    "        groupped = {k: list(v) for k, v in  groupby(self.samples, lambda x: x[1])}\n",
    "        \n",
    "        # crate reference images\n",
    "        references = []\n",
    "        targets = []\n",
    "        for domain, values in groupped.items():\n",
    "            # unzip samples and targets\n",
    "            samples, _ = zip(*values)\n",
    "            # shuffle second reference images\n",
    "            samples2 = random.sample(samples, len(samples))\n",
    "            # repeat labels\n",
    "            labels = [domain]*len(samples)\n",
    "            targets+= labels\n",
    "            references+= list(zip(samples, samples2, labels))\n",
    "        # override samples\n",
    "        self.samples = references\n",
    "        # override targets to make sure that the samples have corresponding labels\n",
    "        self.targets = targets\n",
    "        \n",
    "    def __getitem__(self, index):\n",
    "        \"\"\"\n",
    "        Args:\n",
    "            index (int): Index\n",
    "        Returns:\n",
    "            tuple: (ref sample 1, ref sample 2, ref target)\n",
    "        \"\"\"\n",
    "        ref_path1, ref_path2, ref_target = self.samples[index]\n",
    "\n",
    "        ref1 = self.loader(ref_path1)\n",
    "        ref2 = self.loader(ref_path2)\n",
    "        \n",
    "        if self.transform is not None:\n",
    "            ref1 = self.transform(ref1)\n",
    "            ref2 = self.transform(ref2)\n",
    "            \n",
    "        if self.target_transform is not None:\n",
    "            ref_target = self.target_transform(ref_target)\n",
    "\n",
    "        return ref1, ref2, ref_target\n",
    "\n",
    "def make_balanced_sampler(labels):\n",
    "    class_counts = np.bincount(labels)\n",
    "    class_weights = 1. / class_counts\n",
    "    weights = class_weights[labels]\n",
    "    WeightedRandomSampler(weights, len(weights))"
   ]
  },
  {
   "cell_type": "code",
   "execution_count": null,
   "metadata": {},
   "outputs": [],
   "source": [
    "from torchvision import transforms\n",
    "from torchvision.datasets import ImageFolder\n",
    "from torch.utils.data import DataLoader\n",
    "\n",
    "img_size = 128\n",
    "batch_size = 8\n",
    "num_workers = 4\n",
    "\n",
    "transform = transforms.Compose([\n",
    "    transforms.Resize([img_size, img_size]),\n",
    "    transforms.RandomHorizontalFlip(),\n",
    "    transforms.ToTensor(),\n",
    "    transforms.Normalize(mean=[0.5, 0.5, 0.5],\n",
    "                         std=[0.5, 0.5, 0.5]),\n",
    "])\n",
    "\n",
    "ds = ImageFolder('/home/aray/stargan-v2/data/celeb_afhq/train', transform)\n",
    "ds_ref = ReferenceDataset('/home/aray/stargan-v2/data/celeb_afhq/train', transform)\n",
    "\n",
    "sampler = make_balanced_sampler(ds.targets)\n",
    "loader = DataLoader(dataset=ds,\n",
    "                    batch_size=batch_size,\n",
    "                    sampler=sampler,\n",
    "                    shuffle=True,\n",
    "                    num_workers=num_workers,\n",
    "                    pin_memory=True,\n",
    "                    drop_last=True)\n",
    "\n",
    "sampler_ref = make_balanced_sampler(ds_ref.targets)\n",
    "loader_ref = DataLoader(dataset=ds_ref,\n",
    "                        batch_size=batch_size,\n",
    "                        sampler=sampler_ref,\n",
    "                        shuffle=True,\n",
    "                        num_workers=num_workers,\n",
    "                        pin_memory=True,\n",
    "                        drop_last=True)\n",
    "\n",
    "val_dataset = ImageFolder('/home/aray/stargan-v2/data/celeb_afhq/val', transform)"
   ]
  },
  {
   "cell_type": "code",
   "execution_count": 4,
   "metadata": {},
   "outputs": [
    {
     "name": "stdout",
     "output_type": "stream",
     "text": [
      "n_domains: 5\n"
     ]
    },
    {
     "data": {
      "text/plain": [
       "{'cat': 0, 'dog': 1, 'female': 2, 'male': 3, 'wild': 4}"
      ]
     },
     "execution_count": 4,
     "metadata": {},
     "output_type": "execute_result"
    }
   ],
   "source": [
    "domains, domains_mapping = val_dataset._find_classes(val_dataset.root)\n",
    "n_domains = len(domains)\n",
    "print('n_domains:', n_domains)\n",
    "domains_mapping"
   ]
  },
  {
   "cell_type": "code",
   "execution_count": 5,
   "metadata": {},
   "outputs": [],
   "source": [
    "solver = Solver('StarGAN2_HumanAnimal_multyGPU', img_size, n_domains=n_domains, lambda_ds=0, pretrained_path='results/StarGAN2_HumanAnimal_multyGPU/epoch54/')"
   ]
  },
  {
   "cell_type": "code",
   "execution_count": null,
   "metadata": {},
   "outputs": [
    {
     "name": "stdout",
     "output_type": "stream",
     "text": [
      "Epoch   1: 100.00%\n",
      "        Time: 2:32:32\n",
      "D       real: 0.5092859634096166\n",
      "         reg: 0.08233245229208702\n",
      "      fake z: 0.6105706163517034\n",
      "    fake ref: 0.37408832000713943\n",
      "G latent adv: 1.5225047144546613\n",
      "         sty: 0.08208507950719748\n",
      "         cyc: 0.21420861190526155\n",
      "          ds: 0.2007848360595313\n",
      "G    ref adv: 1.8476700870594285\n",
      "         sty: 0.717797970280398\n",
      "         cyc: 0.2210437205085928\n",
      "          ds: 0.47018298706006223\n",
      "\n",
      "Epoch   2: 100.00%\n",
      "        Time: 2:32:52\n",
      "D       real: 0.4895139895498406\n",
      "         reg: 0.08653025828230589\n",
      "      fake z: 0.6393008299127176\n",
      "    fake ref: 0.3229287409006168\n",
      "G latent adv: 1.4882168694603461\n",
      "         sty: 0.08498248619281941\n",
      "         cyc: 0.21627568146745274\n",
      "          ds: 0.2014139307195785\n",
      "G    ref adv: 1.9863990733551014\n",
      "         sty: 1.1279332285534378\n",
      "         cyc: 0.22097273072222243\n",
      "          ds: 0.4784958322305937\n",
      "\n",
      "Epoch   3: 100.00%\n",
      "        Time: 2:32:57\n",
      "D       real: 0.4678059305076966\n",
      "         reg: 0.09191500259229113\n",
      "      fake z: 0.671934391844559\n",
      "    fake ref: 0.2678188984457113\n",
      "G latent adv: 1.455287087300384\n",
      "         sty: 0.08108298904640046\n",
      "         cyc: 0.21922126593342325\n",
      "          ds: 0.19939620548498457\n",
      "G    ref adv: 2.070421554103449\n",
      "         sty: 1.6768550780285765\n",
      "         cyc: 0.22335808201170004\n",
      "          ds: 0.48527123873728933\n",
      "\n",
      "Epoch   4: 100.00%\n",
      "        Time: 2:32:24\n",
      "D       real: 0.4502744250850439\n",
      "         reg: 0.09717881593988878\n",
      "      fake z: 0.6673761727987556\n",
      "    fake ref: 0.2445586666733295\n",
      "G latent adv: 1.480600098589877\n",
      "         sty: 0.08522391681106307\n",
      "         cyc: 0.2226386596798315\n",
      "          ds: 0.1992307114247065\n",
      "G    ref adv: 2.1973255697984597\n",
      "         sty: 1.8862436664998308\n",
      "         cyc: 0.22692725704507427\n",
      "          ds: 0.4798975866399817\n",
      "\n",
      "Epoch   5: 100.00%\n",
      "        Time: 2:32:35\n",
      "D       real: 0.4675874755432544\n",
      "         reg: 0.09359045180089369\n",
      "      fake z: 0.6505010256001184\n",
      "    fake ref: 0.28055151879043505\n",
      "G latent adv: 1.5030262287225093\n",
      "         sty: 0.08114871244553153\n",
      "         cyc: 0.21685309129747543\n",
      "          ds: 0.1945665975880191\n",
      "G    ref adv: 2.1089584720922305\n",
      "         sty: 1.5384386433680002\n",
      "         cyc: 0.22151136614785\n",
      "          ds: 0.47912797674693325\n",
      "\n",
      "Epoch   6: 100.00%\n",
      "        Time: 2:33:04\n",
      "D       real: 0.4813357026004386\n",
      "         reg: 0.09230832703231188\n",
      "      fake z: 0.6252915234956611\n",
      "    fake ref: 0.31615234657915103\n",
      "G latent adv: 1.5176527782961413\n",
      "         sty: 0.08016113783848156\n",
      "         cyc: 0.21041304652800072\n",
      "          ds: 0.19583432929165237\n",
      "G    ref adv: 2.059483864733407\n",
      "         sty: 1.2184275753912166\n",
      "         cyc: 0.21546396479156013\n",
      "          ds: 0.48164927721996836\n",
      "\n",
      "Epoch   7: 100.00%\n",
      "        Time: 2:33:00\n",
      "D       real: 0.4680316768584538\n",
      "         reg: 0.09407962418850735\n",
      "      fake z: 0.6517511719079861\n",
      "    fake ref: 0.2800134239835782\n",
      "G latent adv: 1.4933915350407183\n",
      "         sty: 0.09170167299488129\n",
      "         cyc: 0.21281830042980993\n",
      "          ds: 0.19122872258013524\n",
      "G    ref adv: 2.1190608271227047\n",
      "         sty: 1.5383514107495837\n",
      "         cyc: 0.2175663163600204\n",
      "          ds: 0.48257015544680637\n",
      "\n",
      "Epoch   8:  34.03%\r"
     ]
    }
   ],
   "source": [
    "solver.train(500, loader, loader_ref, val_dataset)"
   ]
  },
  {
   "cell_type": "code",
   "execution_count": 7,
   "metadata": {},
   "outputs": [],
   "source": [
    "solver.save_model()\n",
    "solver.save_stats()"
   ]
  },
  {
   "cell_type": "code",
   "execution_count": 6,
   "metadata": {},
   "outputs": [],
   "source": [
    "import matplotlib as mpl\n",
    "mpl.rcParams['figure.dpi'] = 300\n"
   ]
  },
  {
   "cell_type": "code",
   "execution_count": 7,
   "metadata": {},
   "outputs": [],
   "source": [
    "def imshow(img):\n",
    "    img = img.numpy()\n",
    "    img = np.transpose(img, (1, 2, 0))\n",
    "    plt.imshow(img)"
   ]
  },
  {
   "cell_type": "code",
   "execution_count": null,
   "metadata": {},
   "outputs": [],
   "source": [
    "n = 4\n",
    "rec, lat, ref = solver.save_images(val_dataset, 1, n)"
   ]
  },
  {
   "cell_type": "code",
   "execution_count": null,
   "metadata": {},
   "outputs": [],
   "source": [
    "fig = plt.figure()\n",
    "plt.box(False)\n",
    "plt.xticks([], [])\n",
    "plt.yticks([50, 160, 305,395], ['real', 'real ref', 'fake', 'reconstructed'])\n",
    "plt.yticks(rotation=90)\n",
    "plt.tick_params(length=0, labelsize=7)\n",
    "imshow(vutils.make_grid(rec, padding=0, nrow=n))\n",
    "# fig.tight_layout()\n",
    "# rec.shape"
   ]
  },
  {
   "cell_type": "code",
   "execution_count": null,
   "metadata": {},
   "outputs": [],
   "source": [
    "fig = plt.figure()\n",
    "plt.box(False)\n",
    "plt.xticks([], [])\n",
    "plt.yticks([40, 185, 300, 420, 560, 690], ['input', ]+ list(domains_mapping.keys()))\n",
    "plt.yticks(rotation=90)\n",
    "plt.tick_params(length=0, labelsize=7)\n",
    "\n",
    "imshow(vutils.make_grid(lat, padding=0, nrow=n))\n"
   ]
  },
  {
   "cell_type": "code",
   "execution_count": null,
   "metadata": {},
   "outputs": [],
   "source": [
    "fig = plt.figure()\n",
    "imshow(vutils.make_grid(ref, padding=0, nrow=n+1))\n",
    "plt.axis('off')\n",
    "plt.gca().xaxis.set_major_locator(plt.NullLocator())\n",
    "plt.gca().yaxis.set_major_locator(plt.NullLocator())\n",
    "plt.subplots_adjust(top = 1, bottom = 0, right = 1, left = 0, \n",
    "        hspace = 0, wspace = 0)\n",
    "# plt.savefig(buf, format='png', bbox_inches = 'tight', pad_inches = 0)\n"
   ]
  },
  {
   "cell_type": "code",
   "execution_count": 2,
   "metadata": {},
   "outputs": [],
   "source": [
    "X0 = np.concatenate([np.load('X0_train_clean_48.npy'), np.load('X0_val_clean_48.npy')])\n",
    "X1 = np.concatenate([np.load('X1_train_clean_48.npy'), np.load('X1_val_clean_48.npy')])\n",
    "\n",
    "X = np.concatenate((X0, X1))\n",
    "y = np.concatenate((np.zeros(len(X0)), np.ones(len(X1)))).astype(np.long)"
   ]
  },
  {
   "cell_type": "code",
   "execution_count": null,
   "metadata": {},
   "outputs": [],
   "source": [
    "solver = Solver(X, y, 2)\n",
    "solver.train(10, 16)"
   ]
  },
  {
   "cell_type": "code",
   "execution_count": 32,
   "metadata": {},
   "outputs": [
    {
     "data": {
      "image/png": "[encoded data removed]",
      "text/plain": [
       "<Figure size 432x288 with 1 Axes>"
      ]
     },
     "metadata": {
      "needs_background": "light"
     },
     "output_type": "display_data"
    }
   ],
   "source": [
    "i = np.random.randint(len(X0))\n",
    "x_ref = torch.from_numpy(X0[i][None])\n",
    "imshow(x_ref)"
   ]
  },
  {
   "cell_type": "code",
   "execution_count": 40,
   "metadata": {},
   "outputs": [
    {
     "data": {
      "text/plain": [
       "torch.Size([1, 3, 48, 48])"
      ]
     },
     "execution_count": 40,
     "metadata": {},
     "output_type": "execute_result"
    },
    {
     "data": {
      "image/png": "[encoded data removed]",
      "text/plain": [
       "<Figure size 432x288 with 1 Axes>"
      ]
     },
     "metadata": {
      "needs_background": "light"
     },
     "output_type": "display_data"
    }
   ],
   "source": [
    "i = np.random.randint(len(X1))\n",
    "x_real = torch.from_numpy(X1[i][None])\n",
    "imshow(x_real)\n",
    "x_real.shape"
   ]
  },
  {
   "cell_type": "code",
   "execution_count": 62,
   "metadata": {},
   "outputs": [
    {
     "data": {
      "image/png": "[encoded data removed]",
      "text/plain": [
       "<Figure size 432x288 with 1 Axes>"
      ]
     },
     "metadata": {
      "needs_background": "light"
     },
     "output_type": "display_data"
    }
   ],
   "source": [
    "y_trg = torch.tensor([0]).cuda()\n",
    "# s_trg = solver.style_encoder(x_ref.cuda(), y_trg)\n",
    "\n",
    "z = torch.randn(1, solver.latent_dim).cuda()\n",
    "s_trg = solver.mapping_network(z, y_trg)\n",
    "\n",
    "x_result = ((1+solver.G(x_real.cuda(), s_trg))/2).clamp_(0, 1)\n",
    "imshow(x_result.detach().cpu())"
   ]
  },
  {
   "cell_type": "code",
   "execution_count": 61,
   "metadata": {},
   "outputs": [
    {
     "data": {
      "text/plain": [
       "tensor(0.4760, device='cuda:0', grad_fn=<MinBackward1>)"
      ]
     },
     "execution_count": 61,
     "metadata": {},
     "output_type": "execute_result"
    }
   ],
   "source": [
    "((x_result+1)/2).min()"
   ]
  }
 ],
 "metadata": {
  "kernelspec": {
   "display_name": "Python 3",
   "language": "python",
   "name": "python3"
  },
  "language_info": {
   "codemirror_mode": {
    "name": "ipython",
    "version": 3
   },
   "file_extension": ".py",
   "mimetype": "text/x-python",
   "name": "python",
   "nbconvert_exporter": "python",
   "pygments_lexer": "ipython3",
   "version": "3.8.5"
  }
 },
 "nbformat": 4,
 "nbformat_minor": 4
}
