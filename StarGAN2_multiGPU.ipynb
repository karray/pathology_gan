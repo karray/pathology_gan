{
 "cells": [
  {
   "cell_type": "code",
   "execution_count": 1,
   "metadata": {},
   "outputs": [],
   "source": [
    "import glob\n",
    "import os\n",
    "import time\n",
    "import csv\n",
    "\n",
    "# os.environ['CUDA_DEVICE_ORDER'] = 'PCI_BUS_ID' \n",
    "# os.environ['CUDA_VISIBLE_DEVICES']='0,1,2,3'\n",
    "# os.environ['CUDA_LAUNCH_BLOCKING'] = \"1\"\n",
    "\n",
    "from stargan2.solver_multi_GPU import Solver\n",
    "\n",
    "import numpy as np\n",
    "\n",
    "import matplotlib.pyplot as plt\n",
    "import torch\n",
    "import torchvision.utils as vutils\n",
    "from torch.utils.data import DataLoader, TensorDataset\n",
    "\n",
    "import torchvision.models.resnet as resnet\n",
    "\n",
    "from torch.backends import cudnn\n",
    "cudnn.benchmark = True"
   ]
  },
  {
   "cell_type": "code",
   "execution_count": 2,
   "metadata": {},
   "outputs": [],
   "source": [
    "import torchvision.datasets as datasets\n",
    "from itertools import groupby\n",
    "import random\n",
    "from torch.utils.data.sampler import WeightedRandomSampler\n",
    "\n",
    "class BinRefDataset(torch.utils.data.Dataset):\n",
    "    def __init__(self, X0, X1):\n",
    "        super().__init__()\n",
    "        \n",
    "        self.X = torch.from_numpy(np.concatenate([X0, X1]))\n",
    "        \n",
    "        x0_l = len(X0)\n",
    "        x1_l = len(X1)\n",
    "\n",
    "        self.y = torch.tensor([0]*x0_l + [1]*x1_l)\n",
    "        \n",
    "        idx1 = list(range(x0_l))\n",
    "        idx2 = random.sample(idx1, x0_l)\n",
    "        self.idx = list(zip(idx1, idx2))\n",
    "        \n",
    "        idx1 = range(x0_l, x0_l+x1_l)\n",
    "        idx2 = random.sample(idx1, x1_l)\n",
    "        self.idx+= list(zip(idx1, idx2))\n",
    "        \n",
    "    def __getitem__(self, index):\n",
    "        idx1, idx2 = self.idx[index]\n",
    "        return self.X[idx1], self.X[idx2], self.y[idx1]\n",
    "    \n",
    "    def __len__(self):\n",
    "        return len(self.X)\n",
    "\n",
    "# def make_balanced_sampler(labels):\n",
    "#     class_counts = np.bincount(labels)\n",
    "#     class_weights = 1. / class_counts\n",
    "#     weights = class_weights[labels]\n",
    "#     WeightedRandomSampler(weights, len(weights))"
   ]
  },
  {
   "cell_type": "code",
   "execution_count": 3,
   "metadata": {},
   "outputs": [],
   "source": [
    "batch_size = 48\n",
    "num_workers = 2\n",
    "\n",
    "X0_train = (np.load('X0_train_clean_48.npy') - .5) / .5\n",
    "X1_train = (np.load('X1_train_clean_48.npy') - .5) / .5\n",
    "\n",
    "X_train = np.concatenate([X0_train, X1_train])\n",
    "y_train = torch.tensor([0]*len(X0_train)+[1]*len(X1_train))\n",
    "\n",
    "trainloader = DataLoader(TensorDataset(torch.from_numpy(X_train),y_train), batch_size=batch_size, shuffle=True, num_workers=num_workers, pin_memory=True, drop_last=True)\n",
    "\n",
    "ds_ref = BinRefDataset(X0_train, X1_train)\n",
    "\n",
    "loader_ref = DataLoader(dataset=ds_ref,\n",
    "                        batch_size=batch_size,\n",
    "                        shuffle=True,\n",
    "                        num_workers=num_workers,\n",
    "                        pin_memory=True,\n",
    "                        drop_last=True)\n",
    "\n"
   ]
  },
  {
   "cell_type": "code",
   "execution_count": 4,
   "metadata": {},
   "outputs": [],
   "source": [
    "class ResNet(resnet.ResNet):\n",
    "    def forward(self, x: torch.Tensor) -> torch.Tensor:\n",
    "        return torch.sigmoid(self._forward_impl(x))"
   ]
  },
  {
   "cell_type": "code",
   "execution_count": 5,
   "metadata": {},
   "outputs": [],
   "source": [
    "X0_val = (np.load('X0_val_clean_48.npy') - .5) / .5\n",
    "X1_val = (np.load('X1_val_clean_48.npy') - .5) / .5\n",
    "\n",
    "\n",
    "X_val = torch.from_numpy(np.concatenate([X0_val, X1_val]))\n",
    "y_val = torch.from_numpy(np.concatenate([np.load('y0_val_clean_48.npy'), np.load('y1_val_clean_48.npy')]))\n",
    "# define target labels for each style \n",
    "y_s_val = torch.tensor([1]*len(X0_val)+[0]*len(X1_val))\n",
    "\n",
    "valloader = DataLoader(TensorDataset(X_val, y_val, y_s_val), batch_size=batch_size, shuffle=True, num_workers=1, pin_memory=True)\n",
    "\n",
    "Clf = ResNet(resnet.BasicBlock, [2, 2, 2, 2], num_classes=1)\n",
    "Clf.load_state_dict(torch.load('results/clf_resnet18_48/best_model.pth'));"
   ]
  },
  {
   "cell_type": "code",
   "execution_count": 6,
   "metadata": {},
   "outputs": [],
   "source": [
    "solver = Solver('StarGAN2_48', 'mse_ds0', 48, n_domains=2, lambda_ds=0)"
   ]
  },
  {
   "cell_type": "code",
   "execution_count": null,
   "metadata": {},
   "outputs": [
    {
     "name": "stderr",
     "output_type": "stream",
     "text": [
      "\u001b[34m\u001b[1mwandb\u001b[0m: Currently logged in as: \u001b[33marray\u001b[0m (use `wandb login --relogin` to force relogin)\n",
      "\u001b[34m\u001b[1mwandb\u001b[0m: wandb version 0.10.18 is available!  To upgrade, please run:\n",
      "\u001b[34m\u001b[1mwandb\u001b[0m:  $ pip install wandb --upgrade\n"
     ]
    },
    {
     "data": {
      "text/html": [
       "\n",
       "                Tracking run with wandb version 0.10.13<br/>\n",
       "                Syncing run <strong style=\"color:#cdcd00\">genial-durian-14</strong> to <a href=\"https://wandb.ai\" target=\"_blank\">Weights & Biases</a> <a href=\"https://docs.wandb.com/integrations/jupyter.html\" target=\"_blank\">(Documentation)</a>.<br/>\n",
       "                Project page: <a href=\"https://wandb.ai/array/StarGAN2_48\" target=\"_blank\">https://wandb.ai/array/StarGAN2_48</a><br/>\n",
       "                Run page: <a href=\"https://wandb.ai/array/StarGAN2_48/runs/3jrsrwvc\" target=\"_blank\">https://wandb.ai/array/StarGAN2_48/runs/3jrsrwvc</a><br/>\n",
       "                Run data is saved locally in <code>/data/aray/pathology_gan/wandb/run-20210211_125715-3jrsrwvc</code><br/><br/>\n",
       "            "
      ],
      "text/plain": [
       "<IPython.core.display.HTML object>"
      ]
     },
     "metadata": {},
     "output_type": "display_data"
    },
    {
     "name": "stderr",
     "output_type": "stream",
     "text": [
      "\u001b[34m\u001b[1mwandb\u001b[0m: \u001b[33mWARNING\u001b[0m Calling run.save without any arguments is deprecated.Changes to attributes are automatically persisted.\n"
     ]
    }
   ],
   "source": [
    "solver.train(100000, trainloader, loader_ref, Clf, valloader)"
   ]
  },
  {
   "cell_type": "code",
   "execution_count": 5,
   "metadata": {},
   "outputs": [],
   "source": [
    "from torchsummary import summary\n",
    "from stargan2.model import Discriminator, Generator, MappingNetwork, StyleEncoder"
   ]
  },
  {
   "cell_type": "code",
   "execution_count": 2,
   "metadata": {
    "collapsed": true,
    "jupyter": {
     "outputs_hidden": true,
     "source_hidden": true
    }
   },
   "outputs": [
    {
     "name": "stdout",
     "output_type": "stream",
     "text": [
      "----------------------------------------------------------------\n",
      "        Layer (type)               Output Shape         Param #\n",
      "================================================================\n",
      "            Conv2d-1          [48, 341, 48, 48]           9,548\n",
      "            Conv2d-2          [48, 512, 48, 48]         174,592\n",
      "    InstanceNorm2d-3          [48, 341, 48, 48]             682\n",
      "         LeakyReLU-4          [48, 341, 48, 48]               0\n",
      "         LeakyReLU-5          [48, 341, 48, 48]               0\n",
      "         LeakyReLU-6          [48, 341, 48, 48]               0\n",
      "            Conv2d-7          [48, 341, 48, 48]       1,046,870\n",
      "    InstanceNorm2d-8          [48, 341, 24, 24]             682\n",
      "         LeakyReLU-9          [48, 341, 24, 24]               0\n",
      "        LeakyReLU-10          [48, 341, 24, 24]               0\n",
      "        LeakyReLU-11          [48, 341, 24, 24]               0\n",
      "           Conv2d-12          [48, 512, 24, 24]       1,571,840\n",
      "           ResBlk-13          [48, 512, 24, 24]               0\n",
      "   InstanceNorm2d-14          [48, 512, 24, 24]           1,024\n",
      "        LeakyReLU-15          [48, 512, 24, 24]               0\n",
      "        LeakyReLU-16          [48, 512, 24, 24]               0\n",
      "        LeakyReLU-17          [48, 512, 24, 24]               0\n",
      "           Conv2d-18          [48, 512, 24, 24]       2,359,808\n",
      "   InstanceNorm2d-19          [48, 512, 24, 24]           1,024\n",
      "        LeakyReLU-20          [48, 512, 24, 24]               0\n",
      "        LeakyReLU-21          [48, 512, 24, 24]               0\n",
      "        LeakyReLU-22          [48, 512, 24, 24]               0\n",
      "           Conv2d-23          [48, 512, 24, 24]       2,359,808\n",
      "           ResBlk-24          [48, 512, 24, 24]               0\n",
      "   InstanceNorm2d-25          [48, 512, 24, 24]           1,024\n",
      "        LeakyReLU-26          [48, 512, 24, 24]               0\n",
      "        LeakyReLU-27          [48, 512, 24, 24]               0\n",
      "        LeakyReLU-28          [48, 512, 24, 24]               0\n",
      "           Conv2d-29          [48, 512, 24, 24]       2,359,808\n",
      "   InstanceNorm2d-30          [48, 512, 24, 24]           1,024\n",
      "        LeakyReLU-31          [48, 512, 24, 24]               0\n",
      "        LeakyReLU-32          [48, 512, 24, 24]               0\n",
      "        LeakyReLU-33          [48, 512, 24, 24]               0\n",
      "           Conv2d-34          [48, 512, 24, 24]       2,359,808\n",
      "           ResBlk-35          [48, 512, 24, 24]               0\n",
      "           Linear-36                 [48, 1024]          66,560\n",
      "   InstanceNorm2d-37          [48, 512, 24, 24]               0\n",
      "            AdaIN-38          [48, 512, 24, 24]               0\n",
      "        LeakyReLU-39          [48, 512, 24, 24]               0\n",
      "        LeakyReLU-40          [48, 512, 24, 24]               0\n",
      "        LeakyReLU-41          [48, 512, 24, 24]               0\n",
      "           Conv2d-42          [48, 512, 24, 24]       2,359,808\n",
      "           Linear-43                 [48, 1024]          66,560\n",
      "   InstanceNorm2d-44          [48, 512, 24, 24]               0\n",
      "            AdaIN-45          [48, 512, 24, 24]               0\n",
      "        LeakyReLU-46          [48, 512, 24, 24]               0\n",
      "        LeakyReLU-47          [48, 512, 24, 24]               0\n",
      "        LeakyReLU-48          [48, 512, 24, 24]               0\n",
      "           Conv2d-49          [48, 512, 24, 24]       2,359,808\n",
      "      AdainResBlk-50          [48, 512, 24, 24]               0\n",
      "           Linear-51                 [48, 1024]          66,560\n",
      "   InstanceNorm2d-52          [48, 512, 24, 24]               0\n",
      "            AdaIN-53          [48, 512, 24, 24]               0\n",
      "        LeakyReLU-54          [48, 512, 24, 24]               0\n",
      "        LeakyReLU-55          [48, 512, 24, 24]               0\n",
      "        LeakyReLU-56          [48, 512, 24, 24]               0\n",
      "           Conv2d-57          [48, 512, 24, 24]       2,359,808\n",
      "           Linear-58                 [48, 1024]          66,560\n",
      "   InstanceNorm2d-59          [48, 512, 24, 24]               0\n",
      "            AdaIN-60          [48, 512, 24, 24]               0\n",
      "        LeakyReLU-61          [48, 512, 24, 24]               0\n",
      "        LeakyReLU-62          [48, 512, 24, 24]               0\n",
      "        LeakyReLU-63          [48, 512, 24, 24]               0\n",
      "           Conv2d-64          [48, 512, 24, 24]       2,359,808\n",
      "      AdainResBlk-65          [48, 512, 24, 24]               0\n",
      "           Linear-66                 [48, 1024]          66,560\n",
      "   InstanceNorm2d-67          [48, 512, 24, 24]               0\n",
      "            AdaIN-68          [48, 512, 24, 24]               0\n",
      "        LeakyReLU-69          [48, 512, 24, 24]               0\n",
      "        LeakyReLU-70          [48, 512, 24, 24]               0\n",
      "        LeakyReLU-71          [48, 512, 24, 24]               0\n",
      "           Conv2d-72          [48, 341, 48, 48]       1,571,669\n",
      "           Linear-73                  [48, 682]          44,330\n",
      "   InstanceNorm2d-74          [48, 341, 48, 48]               0\n",
      "            AdaIN-75          [48, 341, 48, 48]               0\n",
      "        LeakyReLU-76          [48, 341, 48, 48]               0\n",
      "        LeakyReLU-77          [48, 341, 48, 48]               0\n",
      "        LeakyReLU-78          [48, 341, 48, 48]               0\n",
      "           Conv2d-79          [48, 341, 48, 48]       1,046,870\n",
      "           Conv2d-80          [48, 341, 48, 48]         174,592\n",
      "      AdainResBlk-81          [48, 341, 48, 48]               0\n",
      "   InstanceNorm2d-82          [48, 341, 48, 48]             682\n",
      "        LeakyReLU-83          [48, 341, 48, 48]               0\n",
      "           Conv2d-84            [48, 3, 48, 48]           1,026\n",
      "(3, 48, 48, 64)\n",
      "================================================================\n",
      "Total params: 24,858,743\n",
      "Trainable params: 24,858,743\n",
      "Non-trainable params: 0\n",
      "----------------------------------------------------------------\n",
      "Input size (MB): 81.00\n",
      "Forward/backward pass size (MB): 11555.59\n",
      "Params size (MB): 94.83\n",
      "Estimated Total Size (MB): 11731.42\n",
      "----------------------------------------------------------------\n"
     ]
    }
   ],
   "source": [
    "summary(Generator(48, 64).cuda(), [(3, 48, 48), ((64,))], batch_size=48)"
   ]
  },
  {
   "cell_type": "code",
   "execution_count": 2,
   "metadata": {
    "collapsed": true,
    "jupyter": {
     "outputs_hidden": true,
     "source_hidden": true
    }
   },
   "outputs": [
    {
     "name": "stdout",
     "output_type": "stream",
     "text": [
      "----------------------------------------------------------------\n",
      "        Layer (type)               Output Shape         Param #\n",
      "================================================================\n",
      "            Conv2d-1          [48, 341, 48, 48]           9,548\n",
      "            Conv2d-2          [48, 512, 48, 48]         174,592\n",
      "         LeakyReLU-3          [48, 341, 48, 48]               0\n",
      "         LeakyReLU-4          [48, 341, 48, 48]               0\n",
      "         LeakyReLU-5          [48, 341, 48, 48]               0\n",
      "            Conv2d-6          [48, 341, 48, 48]       1,046,870\n",
      "         LeakyReLU-7          [48, 341, 24, 24]               0\n",
      "         LeakyReLU-8          [48, 341, 24, 24]               0\n",
      "         LeakyReLU-9          [48, 341, 24, 24]               0\n",
      "           Conv2d-10          [48, 512, 24, 24]       1,571,840\n",
      "           ResBlk-11          [48, 512, 24, 24]               0\n",
      "        LeakyReLU-12          [48, 512, 24, 24]               0\n",
      "        LeakyReLU-13          [48, 512, 24, 24]               0\n",
      "        LeakyReLU-14          [48, 512, 24, 24]               0\n",
      "           Conv2d-15          [48, 512, 24, 24]       2,359,808\n",
      "        LeakyReLU-16          [48, 512, 12, 12]               0\n",
      "        LeakyReLU-17          [48, 512, 12, 12]               0\n",
      "        LeakyReLU-18          [48, 512, 12, 12]               0\n",
      "           Conv2d-19          [48, 512, 12, 12]       2,359,808\n",
      "           ResBlk-20          [48, 512, 12, 12]               0\n",
      "        LeakyReLU-21          [48, 512, 12, 12]               0\n",
      "        LeakyReLU-22          [48, 512, 12, 12]               0\n",
      "        LeakyReLU-23          [48, 512, 12, 12]               0\n",
      "           Conv2d-24          [48, 512, 12, 12]       2,359,808\n",
      "        LeakyReLU-25            [48, 512, 6, 6]               0\n",
      "        LeakyReLU-26            [48, 512, 6, 6]               0\n",
      "        LeakyReLU-27            [48, 512, 6, 6]               0\n",
      "           Conv2d-28            [48, 512, 6, 6]       2,359,808\n",
      "           ResBlk-29            [48, 512, 6, 6]               0\n",
      "        LeakyReLU-30            [48, 512, 6, 6]               0\n",
      "           Conv2d-31            [48, 512, 3, 3]       4,194,816\n",
      "        LeakyReLU-32            [48, 512, 3, 3]               0\n",
      "           Conv2d-33              [48, 2, 3, 3]           1,026\n",
      "================================================================\n",
      "Total params: 16,437,924\n",
      "Trainable params: 16,437,924\n",
      "Non-trainable params: 0\n",
      "----------------------------------------------------------------\n",
      "Input size (MB): 1.27\n",
      "Forward/backward pass size (MB): 3021.26\n",
      "Params size (MB): 62.71\n",
      "Estimated Total Size (MB): 3085.24\n",
      "----------------------------------------------------------------\n"
     ]
    }
   ],
   "source": [
    "summary(Discriminator(48, 2).cuda(), [(3, 48, 48), ((1,))], batch_size=48)"
   ]
  },
  {
   "cell_type": "code",
   "execution_count": 6,
   "metadata": {},
   "outputs": [
    {
     "name": "stdout",
     "output_type": "stream",
     "text": [
      "tensor([0, 1], device='cuda:0') tensor([0, 0], device='cuda:0')\n",
      "----------------------------------------------------------------\n",
      "        Layer (type)               Output Shape         Param #\n",
      "================================================================\n",
      "            Linear-1           [48, 3, 48, 512]          25,088\n",
      "              ReLU-2           [48, 3, 48, 512]               0\n",
      "            Linear-3           [48, 3, 48, 512]         262,656\n",
      "              ReLU-4           [48, 3, 48, 512]               0\n",
      "            Linear-5           [48, 3, 48, 512]         262,656\n",
      "              ReLU-6           [48, 3, 48, 512]               0\n",
      "            Linear-7           [48, 3, 48, 512]         262,656\n",
      "              ReLU-8           [48, 3, 48, 512]               0\n",
      "            Linear-9           [48, 3, 48, 512]         262,656\n",
      "             ReLU-10           [48, 3, 48, 512]               0\n",
      "           Linear-11           [48, 3, 48, 512]         262,656\n",
      "             ReLU-12           [48, 3, 48, 512]               0\n",
      "           Linear-13           [48, 3, 48, 512]         262,656\n",
      "             ReLU-14           [48, 3, 48, 512]               0\n",
      "           Linear-15            [48, 3, 48, 64]          32,832\n",
      "           Linear-16           [48, 3, 48, 512]         262,656\n",
      "             ReLU-17           [48, 3, 48, 512]               0\n",
      "           Linear-18           [48, 3, 48, 512]         262,656\n",
      "             ReLU-19           [48, 3, 48, 512]               0\n",
      "           Linear-20           [48, 3, 48, 512]         262,656\n",
      "             ReLU-21           [48, 3, 48, 512]               0\n",
      "           Linear-22            [48, 3, 48, 64]          32,832\n",
      "================================================================\n",
      "Total params: 2,454,656\n",
      "Trainable params: 2,454,656\n",
      "Non-trainable params: 0\n",
      "----------------------------------------------------------------\n",
      "Input size (MB): 1.27\n",
      "Forward/backward pass size (MB): 546.75\n",
      "Params size (MB): 9.36\n",
      "Estimated Total Size (MB): 557.38\n",
      "----------------------------------------------------------------\n"
     ]
    }
   ],
   "source": [
    "summary(MappingNetwork(48).cuda(), [(3, 48, 48), ((1,))], batch_size=48)"
   ]
  },
  {
   "cell_type": "code",
   "execution_count": 7,
   "metadata": {},
   "outputs": [
    {
     "name": "stdout",
     "output_type": "stream",
     "text": [
      "----------------------------------------------------------------\n",
      "        Layer (type)               Output Shape         Param #\n",
      "================================================================\n",
      "            Conv2d-1          [48, 341, 48, 48]           9,548\n",
      "            Conv2d-2          [48, 512, 48, 48]         174,592\n",
      "         LeakyReLU-3          [48, 341, 48, 48]               0\n",
      "         LeakyReLU-4          [48, 341, 48, 48]               0\n",
      "         LeakyReLU-5          [48, 341, 48, 48]               0\n",
      "            Conv2d-6          [48, 341, 48, 48]       1,046,870\n",
      "         LeakyReLU-7          [48, 341, 24, 24]               0\n",
      "         LeakyReLU-8          [48, 341, 24, 24]               0\n",
      "         LeakyReLU-9          [48, 341, 24, 24]               0\n",
      "           Conv2d-10          [48, 512, 24, 24]       1,571,840\n",
      "           ResBlk-11          [48, 512, 24, 24]               0\n",
      "        LeakyReLU-12          [48, 512, 24, 24]               0\n",
      "        LeakyReLU-13          [48, 512, 24, 24]               0\n",
      "        LeakyReLU-14          [48, 512, 24, 24]               0\n",
      "           Conv2d-15          [48, 512, 24, 24]       2,359,808\n",
      "        LeakyReLU-16          [48, 512, 12, 12]               0\n",
      "        LeakyReLU-17          [48, 512, 12, 12]               0\n",
      "        LeakyReLU-18          [48, 512, 12, 12]               0\n",
      "           Conv2d-19          [48, 512, 12, 12]       2,359,808\n",
      "           ResBlk-20          [48, 512, 12, 12]               0\n",
      "        LeakyReLU-21          [48, 512, 12, 12]               0\n",
      "        LeakyReLU-22          [48, 512, 12, 12]               0\n",
      "        LeakyReLU-23          [48, 512, 12, 12]               0\n",
      "           Conv2d-24          [48, 512, 12, 12]       2,359,808\n",
      "        LeakyReLU-25            [48, 512, 6, 6]               0\n",
      "        LeakyReLU-26            [48, 512, 6, 6]               0\n",
      "        LeakyReLU-27            [48, 512, 6, 6]               0\n",
      "           Conv2d-28            [48, 512, 6, 6]       2,359,808\n",
      "           ResBlk-29            [48, 512, 6, 6]               0\n",
      "        LeakyReLU-30            [48, 512, 6, 6]               0\n",
      "           Conv2d-31            [48, 512, 3, 3]       4,194,816\n",
      "        LeakyReLU-32            [48, 512, 3, 3]               0\n",
      "           Linear-33                  [48, 512]       2,359,808\n",
      "        LeakyReLU-34                  [48, 512]               0\n",
      "           Linear-35                   [48, 64]          32,832\n",
      "           Linear-36                   [48, 64]          32,832\n",
      "================================================================\n",
      "Total params: 18,862,370\n",
      "Trainable params: 18,862,370\n",
      "Non-trainable params: 0\n",
      "----------------------------------------------------------------\n",
      "Input size (MB): 1.27\n",
      "Forward/backward pass size (MB): 3021.68\n",
      "Params size (MB): 71.95\n",
      "Estimated Total Size (MB): 3094.90\n",
      "----------------------------------------------------------------\n"
     ]
    }
   ],
   "source": [
    "summary(StyleEncoder(48).cuda(), [(3, 48, 48), ((1,))], batch_size=48)"
   ]
  },
  {
   "cell_type": "code",
   "execution_count": null,
   "metadata": {},
   "outputs": [],
   "source": []
  }
 ],
 "metadata": {
  "kernelspec": {
   "display_name": "Python 3",
   "language": "python",
   "name": "python3"
  },
  "language_info": {
   "codemirror_mode": {
    "name": "ipython",
    "version": 3
   },
   "file_extension": ".py",
   "mimetype": "text/x-python",
   "name": "python",
   "nbconvert_exporter": "python",
   "pygments_lexer": "ipython3",
   "version": "3.8.5"
  }
 },
 "nbformat": 4,
 "nbformat_minor": 4
}
