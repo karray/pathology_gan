{
 "cells": [
  {
   "cell_type": "code",
   "execution_count": 1,
   "metadata": {},
   "outputs": [],
   "source": [
    "%load_ext autoreload\n",
    "%autoreload 2\n",
    "\n",
    "import importlib\n",
    "from stylegan2.solver import Solver\n",
    "\n",
    "import numpy as np"
   ]
  },
  {
   "cell_type": "code",
   "execution_count": 2,
   "metadata": {},
   "outputs": [],
   "source": [
    "import random\n",
    "from torch.utils.data.sampler import WeightedRandomSampler\n",
    "\n",
    "def make_balanced_sampler(labels):\n",
    "    class_counts = np.bincount(labels)\n",
    "    class_weights = 1. / class_counts\n",
    "    weights = class_weights[labels]\n",
    "    WeightedRandomSampler(weights, len(weights))"
   ]
  },
  {
   "cell_type": "code",
   "execution_count": 3,
   "metadata": {},
   "outputs": [
    {
     "name": "stdout",
     "output_type": "stream",
     "text": [
      "n_domains: 3\n"
     ]
    },
    {
     "data": {
      "text/plain": [
       "{'cat': 0, 'dog': 1, 'wild': 2}"
      ]
     },
     "execution_count": 3,
     "metadata": {},
     "output_type": "execute_result"
    }
   ],
   "source": [
    "from torchvision import transforms\n",
    "from torchvision.datasets import ImageFolder\n",
    "from torch.utils.data import DataLoader\n",
    "\n",
    "img_size = 256\n",
    "batch_size = 2\n",
    "num_workers = 0\n",
    "\n",
    "transform = transforms.Compose([\n",
    "    transforms.Resize([img_size, img_size]),\n",
    "    transforms.RandomHorizontalFlip(),\n",
    "    transforms.ToTensor(),\n",
    "    transforms.Normalize(mean=[0.5, 0.5, 0.5],\n",
    "                         std=[0.5, 0.5, 0.5]),\n",
    "])\n",
    "\n",
    "ds = ImageFolder('./data/afhq/train', transform)\n",
    "\n",
    "sampler = make_balanced_sampler(ds.targets)\n",
    "loader = DataLoader(dataset=ds,\n",
    "                    batch_size=batch_size,\n",
    "                    sampler=sampler,\n",
    "                    shuffle=True,\n",
    "                    num_workers=num_workers,\n",
    "                    pin_memory=True,\n",
    "                    drop_last=True)\n",
    "\n",
    "# val_dataset = ImageFolder('/home/aray/stargan-v2/data/afhq/val', transform)\n",
    "\n",
    "\n",
    "domains, domains_mapping = ds._find_classes(ds.root)\n",
    "n_domains = len(domains)\n",
    "\n",
    "print('n_domains:', n_domains)\n",
    "domains_mapping"
   ]
  },
  {
   "cell_type": "code",
   "execution_count": 4,
   "metadata": {},
   "outputs": [],
   "source": [
    "solver = Solver('StyleGAN_af_0_256', img_size)"
   ]
  },
  {
   "cell_type": "code",
   "execution_count": null,
   "metadata": {},
   "outputs": [
    {
     "name": "stderr",
     "output_type": "stream",
     "text": [
      "Failed to query for notebook name, you can set it manually with the WANDB_NOTEBOOK_NAME environment variable\n",
      "\u001b[34m\u001b[1mwandb\u001b[0m: Currently logged in as: \u001b[33marray\u001b[0m (use `wandb login --relogin` to force relogin)\n"
     ]
    },
    {
     "data": {
      "text/html": [
       "\n",
       "                Tracking run with wandb version 0.10.13<br/>\n",
       "                Syncing run <strong style=\"color:#cdcd00\">distinctive-grass-10</strong> to <a href=\"https://wandb.ai\" target=\"_blank\">Weights & Biases</a> <a href=\"https://docs.wandb.com/integrations/jupyter.html\" target=\"_blank\">(Documentation)</a>.<br/>\n",
       "                Project page: <a href=\"https://wandb.ai/array/StyleGAN_af_0_256\" target=\"_blank\">https://wandb.ai/array/StyleGAN_af_0_256</a><br/>\n",
       "                Run page: <a href=\"https://wandb.ai/array/StyleGAN_af_0_256/runs/8tk59fbi\" target=\"_blank\">https://wandb.ai/array/StyleGAN_af_0_256/runs/8tk59fbi</a><br/>\n",
       "                Run data is saved locally in <code>/mnt/3TB/Projects/pathology_gan/wandb/run-20210112_234558-8tk59fbi</code><br/><br/>\n",
       "            "
      ],
      "text/plain": [
       "<IPython.core.display.HTML object>"
      ]
     },
     "metadata": {},
     "output_type": "display_data"
    }
   ],
   "source": [
    "solver.train(loader, batch_size)"
   ]
  },
  {
   "cell_type": "code",
   "execution_count": null,
   "metadata": {},
   "outputs": [],
   "source": []
  }
 ],
 "metadata": {
  "kernelspec": {
   "display_name": "Python 3",
   "language": "python",
   "name": "python3"
  },
  "language_info": {
   "codemirror_mode": {
    "name": "ipython",
    "version": 3
   },
   "file_extension": ".py",
   "mimetype": "text/x-python",
   "name": "python",
   "nbconvert_exporter": "python",
   "pygments_lexer": "ipython3",
   "version": "3.6.9"
  }
 },
 "nbformat": 4,
 "nbformat_minor": 4
}
