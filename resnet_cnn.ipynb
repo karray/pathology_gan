{
 "cells": [
  {
   "cell_type": "code",
   "execution_count": 2,
   "metadata": {},
   "outputs": [],
   "source": [
    "import glob\n",
    "import os\n",
    "import time\n",
    "import csv\n",
    "\n",
    "# os.environ['CUDA_DEVICE_ORDER'] = 'PCI_BUS_ID' \n",
    "# os.environ['CUDA_VISIBLE_DEVICES']='0'\n",
    "\n",
    "import numpy as np\n",
    "import matplotlib.pyplot as plt\n",
    "# from tqdm import tqdm\n",
    "import h5py\n",
    "# import imageio\n",
    "from sklearn.model_selection import train_test_split\n",
    "\n",
    "import torch\n",
    "import torch.nn as nn\n",
    "import torch.nn.functional as F\n",
    "import torch.optim as optim\n",
    "# from torchvision import datasets, transforms\n",
    "# from torch.autograd import Variable\n",
    "import torch.autograd as autograd\n",
    "import torchvision.utils as vutils\n",
    "import torchvision.models.resnet as resnet\n",
    "\n",
    "# from torchsummary import summary\n",
    "\n",
    "from torch.utils.data import DataLoader, TensorDataset"
   ]
  },
  {
   "cell_type": "code",
   "execution_count": 3,
   "metadata": {},
   "outputs": [],
   "source": [
    "class ResNet(resnet.ResNet):\n",
    "    def forward(self, x: torch.Tensor) -> torch.Tensor:\n",
    "        return torch.sigmoid(self._forward_impl(x))"
   ]
  },
  {
   "cell_type": "code",
   "execution_count": 4,
   "metadata": {},
   "outputs": [],
   "source": [
    "def load_data(size):\n",
    "    # data size = 96\n",
    "    hfs = 48 # half full size 96/2=48\n",
    "    hs = size//2\n",
    "    start = hfs-hs\n",
    "    end = hfs+hs\n",
    "    \n",
    "    X = np.load('X_clean.npy')[:, start:end, start:end]/255\n",
    "    X = np.moveaxis(X, -1, 1).astype(np.float32)\n",
    "    y = np.load('Y_clean.npy').reshape(-1,1).astype(np.float32)\n",
    "    wsi = np.load('WSI_clean.npy')\n",
    "    \n",
    "#     X_train, X_test, y_train, y_test = train_test_split(X, Y, test_size=0.2, random_state=1)\n",
    "#     X_train, X_val, y_train, y_val = train_test_split(X_train, y_train, test_size=0.25, random_state=1)\n",
    "    \n",
    "#     X_0 = torch.from_numpy(X[WSI==0])\n",
    "#     X_1 = torch.from_numpy(X[WSI==1])\n",
    "#     Y_0 = torch.from_numpy(Y[WSI==0])\n",
    "#     Y_1 = torch.from_numpy(Y[WSI==1])\n",
    "#     return X_0, Y_0, X_1, Y_1\n",
    "\n",
    "    return X, y, wsi"
   ]
  },
  {
   "cell_type": "code",
   "execution_count": 5,
   "metadata": {},
   "outputs": [],
   "source": [
    "# X, y, wsi = load_data(48)\n",
    "\n",
    "# X0 = X[wsi==0]\n",
    "# y0 = y[wsi==0]\n",
    "# X1 = X[wsi==1]\n",
    "# y1 = y[wsi==1]\n",
    "\n",
    "X0_train, X0_test, y0_train, y0_test = train_test_split(X0, y0, test_size=0.2, random_state=0)\n",
    "X0_train, X0_val, y0_train, y0_val = train_test_split(X0_train, y0_train, test_size=0.25, random_state=0)\n",
    "\n",
    "X1_train, X1_test, y1_train, y1_test = train_test_split(X1, y1, test_size=0.2, random_state=0)\n",
    "X1_train, X1_val, y1_train, y1_val = train_test_split(X1_train, y1_train, test_size=0.25, random_state=0)"
   ]
  },
  {
   "cell_type": "code",
   "execution_count": 6,
   "metadata": {},
   "outputs": [],
   "source": [
    "np.save('X0_train_clean_48.npy', X0_train, allow_pickle=False)\n",
    "np.save('X0_test_clean_48.npy', X0_test, allow_pickle=False)\n",
    "np.save('X0_val_clean_48.npy', X0_val, allow_pickle=False)\n",
    "np.save('y0_train_clean_48.npy', y0_train, allow_pickle=False)\n",
    "np.save('y0_test_clean_48.npy', y0_test, allow_pickle=False)\n",
    "np.save('y0_val_clean_48.npy', y0_val, allow_pickle=False)\n",
    "\n",
    "np.save('X1_train_clean_48.npy', X1_train, allow_pickle=False)\n",
    "np.save('X1_test_clean_48.npy', X1_test, allow_pickle=False)\n",
    "np.save('X1_val_clean_48.npy', X1_val, allow_pickle=False)\n",
    "np.save('y1_train_clean_48.npy', y1_train, allow_pickle=False)\n",
    "np.save('y1_test_clean_48.npy', y1_test, allow_pickle=False)\n",
    "np.save('y1_val_clean_48.npy', y1_val, allow_pickle=False)"
   ]
  },
  {
   "cell_type": "code",
   "execution_count": 4,
   "metadata": {},
   "outputs": [],
   "source": [
    "X, y, wsi = load_data(48)\n",
    "\n",
    "X = torch.from_numpy(X)\n",
    "y = torch.from_numpy(y)\n",
    "\n",
    "X_train, X_test, y_train, y_test = train_test_split(X, y, test_size=0.2, random_state=0)\n",
    "X_train, X_val, y_train, y_val = train_test_split(X_train, y_train, test_size=0.25, random_state=0)\n",
    "\n",
    "trainloader = DataLoader(TensorDataset(X_train, y_train), batch_size=128, shuffle=True, num_workers=0, pin_memory=True)\n",
    "valloader = DataLoader(TensorDataset(X_val, y_val), batch_size=128, shuffle=True, num_workers=0, pin_memory=True)\n",
    "testloader = DataLoader(TensorDataset(X_test, y_test), batch_size=128, shuffle=True, num_workers=0, pin_memory=True)\n",
    "# plt.hist(y_train_small.numpy(), bins=2)"
   ]
  },
  {
   "cell_type": "code",
   "execution_count": 5,
   "metadata": {},
   "outputs": [
    {
     "data": {
      "text/plain": [
       "16"
      ]
     },
     "execution_count": 5,
     "metadata": {},
     "output_type": "execute_result"
    }
   ],
   "source": [
    "48-32"
   ]
  },
  {
   "cell_type": "code",
   "execution_count": 11,
   "metadata": {},
   "outputs": [],
   "source": [
    "X_train = np.concatenate([np.load('X0_train_clean_48.npy'), np.load('X1_train_clean_48.npy')])\n",
    "X_val = np.concatenate([np.load('X0_val_clean_48.npy'),  np.load('X1_val_clean_48.npy')])\n",
    "y_train = np.concatenate([np.load('y0_train_clean_48.npy'), np.load('y1_train_clean_48.npy')])\n",
    "y_val = np.concatenate([np.load('y0_val_clean_48.npy'), np.load('y1_val_clean_48.npy')])\n",
    "\n",
    "X_train = torch.from_numpy(X_train[:, :, 8:40, 8:40])\n",
    "X_val =  torch.from_numpy(X_val[:, :, 8:40, 8:40])\n",
    "y_train = torch.from_numpy(y_train)\n",
    "y_val = torch.from_numpy(y_val)\n",
    "\n",
    "trainloader = DataLoader(TensorDataset(X_train, y_train), batch_size=256, shuffle=True, num_workers=1, pin_memory=True)\n",
    "valloader = DataLoader(TensorDataset(X_val, y_val), batch_size=256, shuffle=True, num_workers=1, pin_memory=True)\n",
    "\n",
    "\n",
    "# X_test = np.load('X0_test_clean_48.npy')\n",
    "# y_test = np.load('y0_test_clean_48.npy')\n",
    "\n",
    "\n",
    "# X_train = np.load('X1_train_clean_48.npy')\n",
    "# X_test = np.load('X1_test_clean_48.npy')\n",
    "# X_val = np.load('X1_val_clean_48.npy')\n",
    "# y_train = np.load('y1_train_clean_48.npy')\n",
    "# y_test = np.load('y1_test_clean_48.npy')\n",
    "# y_val = np.load('y1_val_clean_48.npy')"
   ]
  },
  {
   "cell_type": "code",
   "execution_count": 12,
   "metadata": {},
   "outputs": [
    {
     "data": {
      "text/plain": [
       "torch.Size([192982, 3, 32, 32])"
      ]
     },
     "execution_count": 12,
     "metadata": {},
     "output_type": "execute_result"
    }
   ],
   "source": [
    "X_train.shape"
   ]
  },
  {
   "cell_type": "code",
   "execution_count": 9,
   "metadata": {},
   "outputs": [],
   "source": [
    "@torch.no_grad()\n",
    "def eval_Clf(model, validation_loader):\n",
    "    model.eval()        \n",
    "    acc = .0\n",
    "    for i, data in enumerate(validation_loader):\n",
    "        X = data[0].cuda()\n",
    "        y = data[1].cuda()\n",
    "#             predicted = torch.argmax(model(X), dim=1)\n",
    "        predicted = torch.round(model(X))\n",
    "        acc+=(predicted == y).sum()/float(predicted.shape[0])       \n",
    "    model.train()\n",
    "    return (acc/(i+1)).detach().item()"
   ]
  },
  {
   "cell_type": "code",
   "execution_count": 10,
   "metadata": {},
   "outputs": [],
   "source": [
    "class Training:\n",
    "    def __init__(self, model, model_name, cuda_device='cuda:0', lr=1e-4, early_stopping_count=20):\n",
    "        self.model_name = model_name\n",
    "        self.early_stopping_count = early_stopping_count\n",
    "        \n",
    "        device = 'cpu'\n",
    "        if torch.cuda.is_available():\n",
    "            device = cuda_device\n",
    "        self.device = torch.device(device)\n",
    "        \n",
    "        self.Clf = model.to(self.device)\n",
    "\n",
    "        self.Clf_opt = optim.Adam(self.Clf.parameters(), lr=lr)\n",
    "        self.Clf_criterion = torch.nn.BCELoss()\n",
    "        \n",
    "        self.path = 'results/'+model_name\n",
    "        \n",
    "        self.best_acc = .0\n",
    "        self.best_acc_count = 0\n",
    "\n",
    "        if not os.path.exists(self.path):\n",
    "            os.mkdir(self.path)\n",
    "\n",
    "    def train(self, train_loader, validation_loader, epochs):\n",
    "\n",
    "        self.stats = {\n",
    "            'clf_loss': [],\n",
    "            'clf_acc': [],\n",
    "            'clf_loss_val': [],\n",
    "            'clf_acc_val': [],\n",
    "            \n",
    "        }\n",
    "\n",
    "        for epoch in range(epochs):\n",
    "            clf_loss = []\n",
    "            clf_acc = []\n",
    "\n",
    "            for i, data in enumerate(train_loader):\n",
    "                X = data[0].to(self.device)\n",
    "                y = data[1].to(self.device)\n",
    "                    \n",
    "                loss, acc = self._train_Clf(X, y)\n",
    "                clf_loss.append(loss)\n",
    "                clf_acc.append(acc)                                \n",
    "            \n",
    "#             if epoch % 10 == 0:\n",
    "            acc_val = eval_Clf(self.Clf, validation_loader)\n",
    "            clf_loss_m = sum(clf_loss)/len(clf_loss)\n",
    "            clf_acc_m = sum(clf_acc)/len(clf_acc)     \n",
    "            self.stats['clf_loss'].append(clf_loss_m)\n",
    "            self.stats['clf_acc'].append(clf_acc_m)\n",
    "#             self.stats['clf_loss_val'].append(loss_val)\n",
    "            self.stats['clf_acc_val'].append(acc_val)\n",
    "\n",
    "            self.best_acc_count+=1\n",
    "            if acc_val > self.best_acc:\n",
    "                self.best_acc = acc_val\n",
    "                self.best_acc_count = 0\n",
    "                self.save_best()\n",
    "    \n",
    "            print(\"Epoch: %d, loss: %f, acc: %.3f, acc_val: %.3f\"%(epoch, clf_loss_m, clf_acc_m, acc_val))\n",
    "            \n",
    "            if self.best_acc_count >= self.early_stopping_count:\n",
    "                break\n",
    "        print(\"Finished. Best acc: %.3f\"%(self.best_acc))\n",
    "\n",
    "#     def _eval_Clf(self, validation_loader):\n",
    "#         self.Clf.eval()        \n",
    "#         with torch.no_grad():\n",
    "#             acc = .0\n",
    "#             for i, data in enumerate(validation_loader):\n",
    "#                 X = data[0].to(self.device)\n",
    "#                 y = data[1].to(self.device)\n",
    "\n",
    "#                 predicted = torch.argmax(self.Clf(X), dim=1)\n",
    "#                 acc+=(predicted == y).sum()/float(predicted.shape[0])       \n",
    "#         self.Clf.train()\n",
    "#         return (acc/(i+1)).detach().item()\n",
    "\n",
    "    def _train_Clf(self, data, labels):\n",
    "        self.Clf_opt.zero_grad()\n",
    "        \n",
    "        predicted = self.Clf(data)\n",
    "    \n",
    "        loss = self.Clf_criterion(predicted, labels)\n",
    "        \n",
    "        loss.backward()\n",
    "        self.Clf_opt.step()    \n",
    "      \n",
    "        acc = (np.round(predicted.detach().cpu()) == labels.detach().cpu()).sum()/float(predicted.shape[0])\n",
    "#         acc = (torch.argmax(predicted.detach().cpu(), dim=1) == labels.detach().cpu()).sum()/float(predicted.shape[0])\n",
    "\n",
    "        return loss.detach().item(), acc.item()\n",
    "\n",
    "    def save_best(self):\n",
    "        torch.save(self.Clf.state_dict(), self.path+'/best_model.pth')\n",
    "        np.save(self.path+'/acc_val.npy', t.stats['clf_acc_val'], allow_pickle=False)\n",
    "        np.save(self.path+'/acc.npy', t.stats['clf_acc'], allow_pickle=False)\n",
    "        np.save(self.path+'/loss.npy', t.stats['clf_loss'], allow_pickle=False)\n"
   ]
  },
  {
   "cell_type": "code",
   "execution_count": 14,
   "metadata": {},
   "outputs": [
    {
     "name": "stdout",
     "output_type": "stream",
     "text": [
      "Epoch: 0, loss: 0.479146, acc: 0.774, acc_val: 0.785\n",
      "Epoch: 1, loss: 0.430232, acc: 0.805, acc_val: 0.793\n",
      "Epoch: 2, loss: 0.392504, acc: 0.827, acc_val: 0.809\n",
      "Epoch: 3, loss: 0.346956, acc: 0.851, acc_val: 0.811\n",
      "Epoch: 4, loss: 0.295020, acc: 0.876, acc_val: 0.810\n",
      "Epoch: 5, loss: 0.239303, acc: 0.903, acc_val: 0.820\n",
      "Epoch: 6, loss: 0.190317, acc: 0.924, acc_val: 0.813\n",
      "Epoch: 7, loss: 0.148706, acc: 0.942, acc_val: 0.817\n",
      "Epoch: 8, loss: 0.123299, acc: 0.953, acc_val: 0.803\n",
      "Epoch: 9, loss: 0.105706, acc: 0.959, acc_val: 0.813\n",
      "Epoch: 10, loss: 0.094047, acc: 0.964, acc_val: 0.803\n",
      "Epoch: 11, loss: 0.084715, acc: 0.968, acc_val: 0.802\n",
      "Epoch: 12, loss: 0.077040, acc: 0.971, acc_val: 0.809\n",
      "Epoch: 13, loss: 0.074693, acc: 0.972, acc_val: 0.814\n",
      "Epoch: 14, loss: 0.068382, acc: 0.975, acc_val: 0.812\n",
      "Epoch: 15, loss: 0.067117, acc: 0.975, acc_val: 0.813\n",
      "Epoch: 16, loss: 0.061643, acc: 0.977, acc_val: 0.822\n",
      "Epoch: 17, loss: 0.060319, acc: 0.978, acc_val: 0.811\n",
      "Epoch: 18, loss: 0.057798, acc: 0.979, acc_val: 0.793\n",
      "Epoch: 19, loss: 0.055777, acc: 0.979, acc_val: 0.813\n",
      "Epoch: 20, loss: 0.052383, acc: 0.981, acc_val: 0.816\n",
      "Epoch: 21, loss: 0.052426, acc: 0.981, acc_val: 0.818\n",
      "Epoch: 22, loss: 0.050454, acc: 0.982, acc_val: 0.795\n",
      "Epoch: 23, loss: 0.048814, acc: 0.982, acc_val: 0.814\n",
      "Epoch: 24, loss: 0.047814, acc: 0.982, acc_val: 0.790\n",
      "Epoch: 25, loss: 0.045162, acc: 0.984, acc_val: 0.813\n",
      "Epoch: 26, loss: 0.045452, acc: 0.984, acc_val: 0.809\n",
      "Epoch: 27, loss: 0.043163, acc: 0.984, acc_val: 0.824\n",
      "Epoch: 28, loss: 0.041524, acc: 0.985, acc_val: 0.814\n",
      "Epoch: 29, loss: 0.040644, acc: 0.985, acc_val: 0.819\n",
      "Epoch: 30, loss: 0.041136, acc: 0.985, acc_val: 0.809\n",
      "Epoch: 31, loss: 0.039905, acc: 0.986, acc_val: 0.797\n",
      "Epoch: 32, loss: 0.038183, acc: 0.986, acc_val: 0.815\n",
      "Epoch: 33, loss: 0.038494, acc: 0.986, acc_val: 0.817\n",
      "Epoch: 34, loss: 0.035815, acc: 0.987, acc_val: 0.791\n",
      "Epoch: 35, loss: 0.038346, acc: 0.986, acc_val: 0.819\n",
      "Epoch: 36, loss: 0.035104, acc: 0.988, acc_val: 0.817\n",
      "Epoch: 37, loss: 0.034988, acc: 0.988, acc_val: 0.823\n",
      "Epoch: 38, loss: 0.033827, acc: 0.988, acc_val: 0.824\n",
      "Epoch: 39, loss: 0.033694, acc: 0.988, acc_val: 0.815\n",
      "Epoch: 40, loss: 0.034693, acc: 0.988, acc_val: 0.812\n",
      "Epoch: 41, loss: 0.032232, acc: 0.988, acc_val: 0.821\n",
      "Epoch: 42, loss: 0.030470, acc: 0.989, acc_val: 0.829\n",
      "Epoch: 43, loss: 0.032533, acc: 0.988, acc_val: 0.813\n",
      "Epoch: 44, loss: 0.030114, acc: 0.989, acc_val: 0.821\n",
      "Epoch: 45, loss: 0.030597, acc: 0.990, acc_val: 0.814\n",
      "Epoch: 46, loss: 0.030888, acc: 0.989, acc_val: 0.811\n",
      "Epoch: 47, loss: 0.029067, acc: 0.990, acc_val: 0.821\n",
      "Epoch: 48, loss: 0.028620, acc: 0.990, acc_val: 0.815\n",
      "Epoch: 49, loss: 0.030092, acc: 0.990, acc_val: 0.822\n",
      "Epoch: 50, loss: 0.028192, acc: 0.990, acc_val: 0.816\n",
      "Epoch: 51, loss: 0.028210, acc: 0.990, acc_val: 0.812\n",
      "Epoch: 52, loss: 0.025763, acc: 0.991, acc_val: 0.809\n",
      "Epoch: 53, loss: 0.028508, acc: 0.990, acc_val: 0.823\n",
      "Epoch: 54, loss: 0.025386, acc: 0.991, acc_val: 0.812\n",
      "Epoch: 55, loss: 0.026216, acc: 0.991, acc_val: 0.818\n",
      "Epoch: 56, loss: 0.026206, acc: 0.991, acc_val: 0.828\n",
      "Epoch: 57, loss: 0.025372, acc: 0.991, acc_val: 0.822\n",
      "Epoch: 58, loss: 0.026340, acc: 0.991, acc_val: 0.818\n",
      "Epoch: 59, loss: 0.024745, acc: 0.991, acc_val: 0.812\n",
      "Epoch: 60, loss: 0.023873, acc: 0.992, acc_val: 0.823\n",
      "Epoch: 61, loss: 0.025189, acc: 0.991, acc_val: 0.822\n",
      "Epoch: 62, loss: 0.023082, acc: 0.992, acc_val: 0.814\n",
      "Epoch: 63, loss: 0.024843, acc: 0.991, acc_val: 0.824\n",
      "Epoch: 64, loss: 0.021705, acc: 0.992, acc_val: 0.825\n",
      "Epoch: 65, loss: 0.024329, acc: 0.992, acc_val: 0.824\n",
      "Epoch: 66, loss: 0.021406, acc: 0.993, acc_val: 0.816\n",
      "Epoch: 67, loss: 0.022936, acc: 0.992, acc_val: 0.829\n",
      "Epoch: 68, loss: 0.021083, acc: 0.993, acc_val: 0.811\n",
      "Epoch: 69, loss: 0.021833, acc: 0.993, acc_val: 0.821\n",
      "Epoch: 70, loss: 0.022540, acc: 0.992, acc_val: 0.827\n",
      "Epoch: 71, loss: 0.020415, acc: 0.993, acc_val: 0.825\n",
      "Epoch: 72, loss: 0.021301, acc: 0.993, acc_val: 0.826\n",
      "Epoch: 73, loss: 0.021024, acc: 0.993, acc_val: 0.830\n",
      "Epoch: 74, loss: 0.021122, acc: 0.993, acc_val: 0.826\n",
      "Epoch: 75, loss: 0.020729, acc: 0.993, acc_val: 0.816\n",
      "Epoch: 76, loss: 0.020515, acc: 0.993, acc_val: 0.817\n",
      "Epoch: 77, loss: 0.019685, acc: 0.993, acc_val: 0.824\n",
      "Epoch: 78, loss: 0.020373, acc: 0.993, acc_val: 0.816\n",
      "Epoch: 79, loss: 0.020468, acc: 0.993, acc_val: 0.818\n",
      "Epoch: 80, loss: 0.018278, acc: 0.994, acc_val: 0.814\n",
      "Epoch: 81, loss: 0.021256, acc: 0.992, acc_val: 0.824\n",
      "Epoch: 82, loss: 0.017576, acc: 0.994, acc_val: 0.830\n",
      "Epoch: 83, loss: 0.019875, acc: 0.993, acc_val: 0.828\n",
      "Epoch: 84, loss: 0.018572, acc: 0.993, acc_val: 0.825\n",
      "Epoch: 85, loss: 0.017562, acc: 0.994, acc_val: 0.828\n",
      "Epoch: 86, loss: 0.020131, acc: 0.993, acc_val: 0.814\n",
      "Epoch: 87, loss: 0.017311, acc: 0.994, acc_val: 0.824\n",
      "Epoch: 88, loss: 0.018250, acc: 0.994, acc_val: 0.829\n",
      "Epoch: 89, loss: 0.018354, acc: 0.994, acc_val: 0.828\n",
      "Epoch: 90, loss: 0.017286, acc: 0.994, acc_val: 0.820\n",
      "Epoch: 91, loss: 0.017777, acc: 0.994, acc_val: 0.816\n",
      "Epoch: 92, loss: 0.018037, acc: 0.994, acc_val: 0.831\n",
      "Epoch: 93, loss: 0.016550, acc: 0.994, acc_val: 0.828\n",
      "Epoch: 94, loss: 0.017402, acc: 0.994, acc_val: 0.822\n",
      "Epoch: 95, loss: 0.017844, acc: 0.994, acc_val: 0.829\n",
      "Epoch: 96, loss: 0.016889, acc: 0.994, acc_val: 0.821\n",
      "Epoch: 97, loss: 0.015695, acc: 0.995, acc_val: 0.827\n",
      "Epoch: 98, loss: 0.017203, acc: 0.994, acc_val: 0.817\n",
      "Epoch: 99, loss: 0.016983, acc: 0.994, acc_val: 0.824\n",
      "Finished. Best acc: 0.831\n"
     ]
    }
   ],
   "source": [
    "t = Training(ResNet(resnet.BasicBlock, [2, 2, 2, 2], num_classes=1), 'clf_resnet18_32', early_stopping_count=50)\n",
    "t.train(trainloader, valloader, 100)"
   ]
  },
  {
   "cell_type": "code",
   "execution_count": 13,
   "metadata": {},
   "outputs": [],
   "source": [
    "X0_test = np.load('X0_test_clean_48.npy')\n",
    "y0_test = np.load('y0_test_clean_48.npy')\n",
    "\n",
    "X1_test = np.load('X1_test_clean_48.npy')\n",
    "y1_test = np.load('y1_test_clean_48.npy')\n",
    "\n",
    "X_test = np.concatenate([X0_test, X1_test])\n",
    "y_test = np.concatenate([y0_test, y1_test])\n",
    "\n",
    "X0_test = torch.from_numpy(X0_test)\n",
    "y0_test = torch.from_numpy(y0_test)\n",
    "X1_test = torch.from_numpy(X1_test)\n",
    "y1_test = torch.from_numpy(y1_test)\n",
    "X_test = torch.from_numpy(X_test)\n",
    "y_test = torch.from_numpy(y_test)\n",
    "\n",
    "\n",
    "testloader0 = DataLoader(TensorDataset(X0_test, y0_test), batch_size=128, shuffle=True, num_workers=0, pin_memory=True)\n",
    "testloader1 = DataLoader(TensorDataset(X1_test, y1_test), batch_size=128, shuffle=True, num_workers=0, pin_memory=True)\n",
    "testloader = DataLoader(TensorDataset(X_test, y_test), batch_size=128, shuffle=True, num_workers=0, pin_memory=True)"
   ]
  },
  {
   "cell_type": "code",
   "execution_count": 17,
   "metadata": {},
   "outputs": [
    {
     "data": {
      "text/plain": [
       "(0.8511611819267273, 0.8814132213592529, 0.8634864091873169)"
      ]
     },
     "execution_count": 17,
     "metadata": {},
     "output_type": "execute_result"
    }
   ],
   "source": [
    "model = ResNet(resnet.BasicBlock, [2, 2, 2, 2], num_classes=1)\n",
    "model.load_state_dict(torch.load('results/clf_resnet18_48/best_model.pth'))\n",
    "model.cuda()\n",
    "\n",
    "eval_Clf(model, testloader0), eval_Clf(model, testloader1), eval_Clf(model, testloader)"
   ]
  },
  {
   "cell_type": "code",
   "execution_count": 15,
   "metadata": {},
   "outputs": [
    {
     "data": {
      "text/plain": [
       "<matplotlib.legend.Legend at 0x7f9bf3339f70>"
      ]
     },
     "execution_count": 15,
     "metadata": {},
     "output_type": "execute_result"
    },
    {
     "data": {
      "image/png": "[encoded data removed]",
      "text/plain": [
       "<Figure size 1008x432 with 1 Axes>"
      ]
     },
     "metadata": {
      "needs_background": "light"
     },
     "output_type": "display_data"
    }
   ],
   "source": [
    "plt.figure(figsize=(14, 6))\n",
    "plt.plot(np.load('results/clf_resnet18_48/acc_val.npy'), label='acc')\n",
    "plt.plot(np.load('results/clf_resnet18_0_48/acc_val.npy'), label='acc0')\n",
    "plt.plot(np.load('results/clf_resnet18_1_48/acc_val.npy'), label='acc1')\n",
    "plt.legend()\n"
   ]
  },
  {
   "cell_type": "code",
   "execution_count": 8,
   "metadata": {},
   "outputs": [
    {
     "data": {
      "text/plain": [
       "[<matplotlib.lines.Line2D at 0x7f9bf49bc8b0>]"
      ]
     },
     "execution_count": 8,
     "metadata": {},
     "output_type": "execute_result"
    },
    {
     "data": {
      "image/png": "[encoded data removed]",
      "text/plain": [
       "<Figure size 1008x432 with 1 Axes>"
      ]
     },
     "metadata": {
      "needs_background": "light"
     },
     "output_type": "display_data"
    },
    {
     "data": {
      "image/png": "[encoded data removed]",
      "text/plain": [
       "<Figure size 1008x432 with 1 Axes>"
      ]
     },
     "metadata": {
      "needs_background": "light"
     },
     "output_type": "display_data"
    }
   ],
   "source": [
    "plt.figure(figsize=(14, 6))\n",
    "plt.plot(np.load('results/clf_resnet18_48/acc.npy'), label='acc')\n",
    "plt.plot(np.load('results/clf_resnet18_48/acc_val.npy'), label='acc_val')\n",
    "plt.legend()\n",
    "\n",
    "plt.figure(figsize=(14, 6))\n",
    "plt.plot(np.load('results/clf_resnet18_48/loss.npy'), label='loss')"
   ]
  },
  {
   "cell_type": "code",
   "execution_count": 26,
   "metadata": {},
   "outputs": [
    {
     "name": "stdout",
     "output_type": "stream",
     "text": [
      "Epoch: 0, loss: 0.492805, acc: 0.768, acc_val: 0.772\n",
      "Epoch: 1, loss: 0.414897, acc: 0.815, acc_val: 0.763\n",
      "Epoch: 2, loss: 0.353238, acc: 0.847, acc_val: 0.817\n",
      "Epoch: 3, loss: 0.289293, acc: 0.879, acc_val: 0.820\n",
      "Epoch: 4, loss: 0.230823, acc: 0.905, acc_val: 0.821\n",
      "Epoch: 5, loss: 0.175033, acc: 0.930, acc_val: 0.791\n",
      "Epoch: 6, loss: 0.136347, acc: 0.947, acc_val: 0.812\n",
      "Epoch: 7, loss: 0.111550, acc: 0.957, acc_val: 0.795\n",
      "Epoch: 8, loss: 0.095826, acc: 0.964, acc_val: 0.765\n",
      "Epoch: 9, loss: 0.086831, acc: 0.967, acc_val: 0.825\n",
      "Epoch: 10, loss: 0.076133, acc: 0.971, acc_val: 0.828\n",
      "Epoch: 11, loss: 0.071218, acc: 0.973, acc_val: 0.841\n",
      "Epoch: 12, loss: 0.064142, acc: 0.976, acc_val: 0.833\n",
      "Epoch: 13, loss: 0.060539, acc: 0.977, acc_val: 0.826\n",
      "Epoch: 14, loss: 0.057370, acc: 0.979, acc_val: 0.817\n",
      "Epoch: 15, loss: 0.054109, acc: 0.980, acc_val: 0.839\n",
      "Epoch: 16, loss: 0.050572, acc: 0.981, acc_val: 0.830\n",
      "Epoch: 17, loss: 0.048946, acc: 0.982, acc_val: 0.841\n",
      "Epoch: 18, loss: 0.048479, acc: 0.982, acc_val: 0.828\n",
      "Epoch: 19, loss: 0.044926, acc: 0.984, acc_val: 0.842\n",
      "Epoch: 20, loss: 0.041204, acc: 0.985, acc_val: 0.838\n",
      "Epoch: 21, loss: 0.042611, acc: 0.985, acc_val: 0.838\n",
      "Epoch: 22, loss: 0.040103, acc: 0.985, acc_val: 0.766\n",
      "Epoch: 23, loss: 0.037875, acc: 0.986, acc_val: 0.816\n",
      "Epoch: 24, loss: 0.037848, acc: 0.986, acc_val: 0.828\n",
      "Epoch: 25, loss: 0.034715, acc: 0.988, acc_val: 0.841\n",
      "Epoch: 26, loss: 0.034620, acc: 0.988, acc_val: 0.819\n",
      "Epoch: 27, loss: 0.036138, acc: 0.987, acc_val: 0.828\n",
      "Epoch: 28, loss: 0.031583, acc: 0.988, acc_val: 0.836\n",
      "Epoch: 29, loss: 0.030340, acc: 0.989, acc_val: 0.831\n",
      "Epoch: 30, loss: 0.029671, acc: 0.989, acc_val: 0.846\n",
      "Epoch: 31, loss: 0.028874, acc: 0.990, acc_val: 0.832\n",
      "Epoch: 32, loss: 0.028681, acc: 0.990, acc_val: 0.831\n",
      "Epoch: 33, loss: 0.027170, acc: 0.990, acc_val: 0.788\n",
      "Epoch: 34, loss: 0.028018, acc: 0.990, acc_val: 0.843\n",
      "Epoch: 35, loss: 0.025800, acc: 0.991, acc_val: 0.842\n",
      "Epoch: 36, loss: 0.025161, acc: 0.991, acc_val: 0.836\n",
      "Epoch: 37, loss: 0.026801, acc: 0.990, acc_val: 0.853\n",
      "Epoch: 38, loss: 0.023890, acc: 0.991, acc_val: 0.838\n",
      "Epoch: 39, loss: 0.023505, acc: 0.992, acc_val: 0.765\n",
      "Epoch: 40, loss: 0.022941, acc: 0.992, acc_val: 0.821\n",
      "Epoch: 41, loss: 0.022624, acc: 0.992, acc_val: 0.816\n",
      "Epoch: 42, loss: 0.020909, acc: 0.993, acc_val: 0.814\n",
      "Epoch: 43, loss: 0.021618, acc: 0.992, acc_val: 0.824\n",
      "Epoch: 44, loss: 0.021556, acc: 0.992, acc_val: 0.818\n",
      "Epoch: 45, loss: 0.020874, acc: 0.992, acc_val: 0.847\n",
      "Epoch: 46, loss: 0.020850, acc: 0.993, acc_val: 0.850\n",
      "Epoch: 47, loss: 0.019646, acc: 0.992, acc_val: 0.839\n",
      "Epoch: 48, loss: 0.021064, acc: 0.993, acc_val: 0.851\n",
      "Epoch: 49, loss: 0.019831, acc: 0.993, acc_val: 0.856\n"
     ]
    }
   ],
   "source": [
    "t1 = Training(ResNet(resnet.Bottleneck, [2, 2, 2, 2], num_classes=1), 'clf_resnet_32')\n",
    "t1.train(trainloader, valloader, 100)"
   ]
  },
  {
   "cell_type": "code",
   "execution_count": 22,
   "metadata": {},
   "outputs": [
    {
     "name": "stdout",
     "output_type": "stream",
     "text": [
      "----------------------------------------------------------------\n",
      "        Layer (type)               Output Shape         Param #\n",
      "================================================================\n",
      "            Conv2d-1           [-1, 64, 16, 16]           9,408\n",
      "       BatchNorm2d-2           [-1, 64, 16, 16]             128\n",
      "              ReLU-3           [-1, 64, 16, 16]               0\n",
      "         MaxPool2d-4             [-1, 64, 8, 8]               0\n",
      "            Conv2d-5             [-1, 64, 8, 8]          36,864\n",
      "       BatchNorm2d-6             [-1, 64, 8, 8]             128\n",
      "              ReLU-7             [-1, 64, 8, 8]               0\n",
      "            Conv2d-8             [-1, 64, 8, 8]          36,864\n",
      "       BatchNorm2d-9             [-1, 64, 8, 8]             128\n",
      "             ReLU-10             [-1, 64, 8, 8]               0\n",
      "       BasicBlock-11             [-1, 64, 8, 8]               0\n",
      "           Conv2d-12             [-1, 64, 8, 8]          36,864\n",
      "      BatchNorm2d-13             [-1, 64, 8, 8]             128\n",
      "             ReLU-14             [-1, 64, 8, 8]               0\n",
      "           Conv2d-15             [-1, 64, 8, 8]          36,864\n",
      "      BatchNorm2d-16             [-1, 64, 8, 8]             128\n",
      "             ReLU-17             [-1, 64, 8, 8]               0\n",
      "       BasicBlock-18             [-1, 64, 8, 8]               0\n",
      "           Conv2d-19            [-1, 128, 4, 4]          73,728\n",
      "      BatchNorm2d-20            [-1, 128, 4, 4]             256\n",
      "             ReLU-21            [-1, 128, 4, 4]               0\n",
      "           Conv2d-22            [-1, 128, 4, 4]         147,456\n",
      "      BatchNorm2d-23            [-1, 128, 4, 4]             256\n",
      "           Conv2d-24            [-1, 128, 4, 4]           8,192\n",
      "      BatchNorm2d-25            [-1, 128, 4, 4]             256\n",
      "             ReLU-26            [-1, 128, 4, 4]               0\n",
      "       BasicBlock-27            [-1, 128, 4, 4]               0\n",
      "           Conv2d-28            [-1, 128, 4, 4]         147,456\n",
      "      BatchNorm2d-29            [-1, 128, 4, 4]             256\n",
      "             ReLU-30            [-1, 128, 4, 4]               0\n",
      "           Conv2d-31            [-1, 128, 4, 4]         147,456\n",
      "      BatchNorm2d-32            [-1, 128, 4, 4]             256\n",
      "             ReLU-33            [-1, 128, 4, 4]               0\n",
      "       BasicBlock-34            [-1, 128, 4, 4]               0\n",
      "           Conv2d-35            [-1, 256, 2, 2]         294,912\n",
      "      BatchNorm2d-36            [-1, 256, 2, 2]             512\n",
      "             ReLU-37            [-1, 256, 2, 2]               0\n",
      "           Conv2d-38            [-1, 256, 2, 2]         589,824\n",
      "      BatchNorm2d-39            [-1, 256, 2, 2]             512\n",
      "           Conv2d-40            [-1, 256, 2, 2]          32,768\n",
      "      BatchNorm2d-41            [-1, 256, 2, 2]             512\n",
      "             ReLU-42            [-1, 256, 2, 2]               0\n",
      "       BasicBlock-43            [-1, 256, 2, 2]               0\n",
      "           Conv2d-44            [-1, 256, 2, 2]         589,824\n",
      "      BatchNorm2d-45            [-1, 256, 2, 2]             512\n",
      "             ReLU-46            [-1, 256, 2, 2]               0\n",
      "           Conv2d-47            [-1, 256, 2, 2]         589,824\n",
      "      BatchNorm2d-48            [-1, 256, 2, 2]             512\n",
      "             ReLU-49            [-1, 256, 2, 2]               0\n",
      "       BasicBlock-50            [-1, 256, 2, 2]               0\n",
      "           Conv2d-51            [-1, 512, 1, 1]       1,179,648\n",
      "      BatchNorm2d-52            [-1, 512, 1, 1]           1,024\n",
      "             ReLU-53            [-1, 512, 1, 1]               0\n",
      "           Conv2d-54            [-1, 512, 1, 1]       2,359,296\n",
      "      BatchNorm2d-55            [-1, 512, 1, 1]           1,024\n",
      "           Conv2d-56            [-1, 512, 1, 1]         131,072\n",
      "      BatchNorm2d-57            [-1, 512, 1, 1]           1,024\n",
      "             ReLU-58            [-1, 512, 1, 1]               0\n",
      "       BasicBlock-59            [-1, 512, 1, 1]               0\n",
      "           Conv2d-60            [-1, 512, 1, 1]       2,359,296\n",
      "      BatchNorm2d-61            [-1, 512, 1, 1]           1,024\n",
      "             ReLU-62            [-1, 512, 1, 1]               0\n",
      "           Conv2d-63            [-1, 512, 1, 1]       2,359,296\n",
      "      BatchNorm2d-64            [-1, 512, 1, 1]           1,024\n",
      "             ReLU-65            [-1, 512, 1, 1]               0\n",
      "       BasicBlock-66            [-1, 512, 1, 1]               0\n",
      "AdaptiveAvgPool2d-67            [-1, 512, 1, 1]               0\n",
      "           Linear-68                    [-1, 1]             513\n",
      "================================================================\n",
      "Total params: 11,177,025\n",
      "Trainable params: 11,177,025\n",
      "Non-trainable params: 0\n",
      "----------------------------------------------------------------\n",
      "Input size (MB): 0.01\n",
      "Forward/backward pass size (MB): 1.29\n",
      "Params size (MB): 42.64\n",
      "Estimated Total Size (MB): 43.93\n",
      "----------------------------------------------------------------\n"
     ]
    }
   ],
   "source": [
    "summary(ResNet(resnet.BasicBlock, [2, 2, 2, 2], num_classes=1).cuda(), (3, 32, 32))"
   ]
  },
  {
   "cell_type": "code",
   "execution_count": 20,
   "metadata": {},
   "outputs": [
    {
     "name": "stdout",
     "output_type": "stream",
     "text": [
      "----------------------------------------------------------------\n",
      "        Layer (type)               Output Shape         Param #\n",
      "================================================================\n",
      "            Conv2d-1           [-1, 64, 16, 16]           9,408\n",
      "       BatchNorm2d-2           [-1, 64, 16, 16]             128\n",
      "              ReLU-3           [-1, 64, 16, 16]               0\n",
      "         MaxPool2d-4             [-1, 64, 8, 8]               0\n",
      "            Conv2d-5             [-1, 64, 8, 8]           4,096\n",
      "       BatchNorm2d-6             [-1, 64, 8, 8]             128\n",
      "              ReLU-7             [-1, 64, 8, 8]               0\n",
      "            Conv2d-8             [-1, 64, 8, 8]          36,864\n",
      "       BatchNorm2d-9             [-1, 64, 8, 8]             128\n",
      "             ReLU-10             [-1, 64, 8, 8]               0\n",
      "           Conv2d-11            [-1, 256, 8, 8]          16,384\n",
      "      BatchNorm2d-12            [-1, 256, 8, 8]             512\n",
      "           Conv2d-13            [-1, 256, 8, 8]          16,384\n",
      "      BatchNorm2d-14            [-1, 256, 8, 8]             512\n",
      "             ReLU-15            [-1, 256, 8, 8]               0\n",
      "       Bottleneck-16            [-1, 256, 8, 8]               0\n",
      "           Conv2d-17             [-1, 64, 8, 8]          16,384\n",
      "      BatchNorm2d-18             [-1, 64, 8, 8]             128\n",
      "             ReLU-19             [-1, 64, 8, 8]               0\n",
      "           Conv2d-20             [-1, 64, 8, 8]          36,864\n",
      "      BatchNorm2d-21             [-1, 64, 8, 8]             128\n",
      "             ReLU-22             [-1, 64, 8, 8]               0\n",
      "           Conv2d-23            [-1, 256, 8, 8]          16,384\n",
      "      BatchNorm2d-24            [-1, 256, 8, 8]             512\n",
      "             ReLU-25            [-1, 256, 8, 8]               0\n",
      "       Bottleneck-26            [-1, 256, 8, 8]               0\n",
      "           Conv2d-27            [-1, 128, 8, 8]          32,768\n",
      "      BatchNorm2d-28            [-1, 128, 8, 8]             256\n",
      "             ReLU-29            [-1, 128, 8, 8]               0\n",
      "           Conv2d-30            [-1, 128, 4, 4]         147,456\n",
      "      BatchNorm2d-31            [-1, 128, 4, 4]             256\n",
      "             ReLU-32            [-1, 128, 4, 4]               0\n",
      "           Conv2d-33            [-1, 512, 4, 4]          65,536\n",
      "      BatchNorm2d-34            [-1, 512, 4, 4]           1,024\n",
      "           Conv2d-35            [-1, 512, 4, 4]         131,072\n",
      "      BatchNorm2d-36            [-1, 512, 4, 4]           1,024\n",
      "             ReLU-37            [-1, 512, 4, 4]               0\n",
      "       Bottleneck-38            [-1, 512, 4, 4]               0\n",
      "           Conv2d-39            [-1, 128, 4, 4]          65,536\n",
      "      BatchNorm2d-40            [-1, 128, 4, 4]             256\n",
      "             ReLU-41            [-1, 128, 4, 4]               0\n",
      "           Conv2d-42            [-1, 128, 4, 4]         147,456\n",
      "      BatchNorm2d-43            [-1, 128, 4, 4]             256\n",
      "             ReLU-44            [-1, 128, 4, 4]               0\n",
      "           Conv2d-45            [-1, 512, 4, 4]          65,536\n",
      "      BatchNorm2d-46            [-1, 512, 4, 4]           1,024\n",
      "             ReLU-47            [-1, 512, 4, 4]               0\n",
      "       Bottleneck-48            [-1, 512, 4, 4]               0\n",
      "           Conv2d-49            [-1, 256, 4, 4]         131,072\n",
      "      BatchNorm2d-50            [-1, 256, 4, 4]             512\n",
      "             ReLU-51            [-1, 256, 4, 4]               0\n",
      "           Conv2d-52            [-1, 256, 2, 2]         589,824\n",
      "      BatchNorm2d-53            [-1, 256, 2, 2]             512\n",
      "             ReLU-54            [-1, 256, 2, 2]               0\n",
      "           Conv2d-55           [-1, 1024, 2, 2]         262,144\n",
      "      BatchNorm2d-56           [-1, 1024, 2, 2]           2,048\n",
      "           Conv2d-57           [-1, 1024, 2, 2]         524,288\n",
      "      BatchNorm2d-58           [-1, 1024, 2, 2]           2,048\n",
      "             ReLU-59           [-1, 1024, 2, 2]               0\n",
      "       Bottleneck-60           [-1, 1024, 2, 2]               0\n",
      "           Conv2d-61            [-1, 256, 2, 2]         262,144\n",
      "      BatchNorm2d-62            [-1, 256, 2, 2]             512\n",
      "             ReLU-63            [-1, 256, 2, 2]               0\n",
      "           Conv2d-64            [-1, 256, 2, 2]         589,824\n",
      "      BatchNorm2d-65            [-1, 256, 2, 2]             512\n",
      "             ReLU-66            [-1, 256, 2, 2]               0\n",
      "           Conv2d-67           [-1, 1024, 2, 2]         262,144\n",
      "      BatchNorm2d-68           [-1, 1024, 2, 2]           2,048\n",
      "             ReLU-69           [-1, 1024, 2, 2]               0\n",
      "       Bottleneck-70           [-1, 1024, 2, 2]               0\n",
      "           Conv2d-71            [-1, 512, 2, 2]         524,288\n",
      "      BatchNorm2d-72            [-1, 512, 2, 2]           1,024\n",
      "             ReLU-73            [-1, 512, 2, 2]               0\n",
      "           Conv2d-74            [-1, 512, 1, 1]       2,359,296\n",
      "      BatchNorm2d-75            [-1, 512, 1, 1]           1,024\n",
      "             ReLU-76            [-1, 512, 1, 1]               0\n",
      "           Conv2d-77           [-1, 2048, 1, 1]       1,048,576\n",
      "      BatchNorm2d-78           [-1, 2048, 1, 1]           4,096\n",
      "           Conv2d-79           [-1, 2048, 1, 1]       2,097,152\n",
      "      BatchNorm2d-80           [-1, 2048, 1, 1]           4,096\n",
      "             ReLU-81           [-1, 2048, 1, 1]               0\n",
      "       Bottleneck-82           [-1, 2048, 1, 1]               0\n",
      "           Conv2d-83            [-1, 512, 1, 1]       1,048,576\n",
      "      BatchNorm2d-84            [-1, 512, 1, 1]           1,024\n",
      "             ReLU-85            [-1, 512, 1, 1]               0\n",
      "           Conv2d-86            [-1, 512, 1, 1]       2,359,296\n",
      "      BatchNorm2d-87            [-1, 512, 1, 1]           1,024\n",
      "             ReLU-88            [-1, 512, 1, 1]               0\n",
      "           Conv2d-89           [-1, 2048, 1, 1]       1,048,576\n",
      "      BatchNorm2d-90           [-1, 2048, 1, 1]           4,096\n",
      "             ReLU-91           [-1, 2048, 1, 1]               0\n",
      "       Bottleneck-92           [-1, 2048, 1, 1]               0\n",
      "AdaptiveAvgPool2d-93           [-1, 2048, 1, 1]               0\n",
      "           Linear-94                    [-1, 1]           2,049\n",
      "================================================================\n",
      "Total params: 13,948,225\n",
      "Trainable params: 13,948,225\n",
      "Non-trainable params: 0\n",
      "----------------------------------------------------------------\n",
      "Input size (MB): 0.01\n",
      "Forward/backward pass size (MB): 3.71\n",
      "Params size (MB): 53.21\n",
      "Estimated Total Size (MB): 56.93\n",
      "----------------------------------------------------------------\n"
     ]
    }
   ],
   "source": [
    "from torchsummary import summary\n",
    "\n",
    "summary(ResNet(resnet.Bottleneck, [2, 2, 2, 2], num_classes=1).cuda(), (3, 32, 32))"
   ]
  },
  {
   "cell_type": "code",
   "execution_count": 28,
   "metadata": {},
   "outputs": [
    {
     "data": {
      "text/plain": [
       "0.7793381214141846"
      ]
     },
     "execution_count": 28,
     "metadata": {},
     "output_type": "execute_result"
    }
   ],
   "source": [
    "eval_Clf(t.Clf, testloader)"
   ]
  },
  {
   "cell_type": "code",
   "execution_count": 51,
   "metadata": {},
   "outputs": [
    {
     "data": {
      "text/plain": [
       "(0.800048828125, 0.803375244140625)"
      ]
     },
     "execution_count": 51,
     "metadata": {},
     "output_type": "execute_result"
    }
   ],
   "source": [
    "eval_Clf(fake_clf.D, testloader), eval_Clf(fake_clf.D, validloader)"
   ]
  },
  {
   "cell_type": "code",
   "execution_count": null,
   "metadata": {},
   "outputs": [],
   "source": []
  },
  {
   "cell_type": "code",
   "execution_count": 59,
   "metadata": {},
   "outputs": [],
   "source": [
    "path = 'results/'+mixed_clf.model_name\n",
    "with open(path+'/mixed_clf_fake_loss.csv', 'w', newline='') as myfile:\n",
    "    wr = csv.writer(myfile)\n",
    "    wr.writerow(mixed_clf.stats['clf_loss'])\n",
    "\n",
    "with open(path+'/mixed_clf_fake_acc_val.csv', 'w', newline='') as myfile:\n",
    "    wr = csv.writer(myfile)\n",
    "    wr.writerow(mixed_clf.stats['clf_acc_val'])\n",
    "\n",
    "with open(path+'/mixed_clf_fake_acc.csv', 'w', newline='') as myfile:\n",
    "    wr = csv.writer(myfile)\n",
    "    wr.writerow(mixed_clf.stats['clf_acc'])\n",
    "    \n",
    "# print(np.argmax(wgan_ct.stats['clf_acc_val']))\n",
    "# wgan_ct.stats['clf_acc_val'][3]"
   ]
  },
  {
   "cell_type": "code",
   "execution_count": 58,
   "metadata": {},
   "outputs": [
    {
     "data": {
      "text/plain": [
       "<matplotlib.legend.Legend at 0x7fe249b05e10>"
      ]
     },
     "execution_count": 58,
     "metadata": {},
     "output_type": "execute_result"
    },
    {
     "data": {
      "image/png": "[encoded data removed]",
      "text/plain": [
       "<Figure size 1296x360 with 1 Axes>"
      ]
     },
     "metadata": {
      "needs_background": "light"
     },
     "output_type": "display_data"
    }
   ],
   "source": [
    "plt.figure(figsize=(18,5))\n",
    "plt.title('Training classifier on mixed dataset')\n",
    "acc_max = np.max(mixed_clf.stats['clf_acc_val'])\n",
    "acc_max_e = np.argmax(mixed_clf.stats['clf_acc_val'])\n",
    "plt.axhline(y=acc_max, color='k', linestyle='-', alpha=0.2, linewidth=1)\n",
    "plt.axvline(x=acc_max_e, color='k', linestyle='-', alpha=0.2, linewidth=1)\n",
    "plt.plot(mixed_clf.stats['clf_acc'], label='Train acc')\n",
    "plt.plot(mixed_clf.stats['clf_acc_val'], label='Validation acc')\n",
    "plt.plot(mixed_clf.stats['clf_loss'], label='Train loss')\n",
    "plt.xlabel('Epochs')\n",
    "plt.legend()"
   ]
  }
 ],
 "metadata": {
  "kernelspec": {
   "display_name": "Python 3",
   "language": "python",
   "name": "python3"
  },
  "language_info": {
   "codemirror_mode": {
    "name": "ipython",
    "version": 3
   },
   "file_extension": ".py",
   "mimetype": "text/x-python",
   "name": "python",
   "nbconvert_exporter": "python",
   "pygments_lexer": "ipython3",
   "version": "3.6.9"
  }
 },
 "nbformat": 4,
 "nbformat_minor": 4
}
