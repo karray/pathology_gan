{
 "cells": [
  {
   "cell_type": "code",
   "execution_count": 1,
   "metadata": {},
   "outputs": [],
   "source": [
    "import glob\n",
    "import os\n",
    "import time\n",
    "\n",
    "os.environ['CUDA_DEVICE_ORDER'] = 'PCI_BUS_ID' \n",
    "os.environ['CUDA_VISIBLE_DEVICES']='3'\n",
    "\n",
    "import numpy as np\n",
    "import matplotlib.pyplot as plt\n",
    "from tqdm import tqdm\n",
    "import h5py\n",
    "import imageio\n",
    "\n",
    "import torch\n",
    "import torch.nn as nn\n",
    "import torch.nn.functional as F\n",
    "import torch.optim as optim\n",
    "# from torchvision import datasets, transforms\n",
    "# from torch.autograd import Variable\n",
    "import torch.autograd as autograd\n",
    "import torchvision.utils as vutils\n",
    "\n",
    "from torch.utils.data import DataLoader, TensorDataset"
   ]
  },
  {
   "cell_type": "code",
   "execution_count": 2,
   "metadata": {},
   "outputs": [],
   "source": [
    "def load_data():\n",
    "    x_train = (h5py.File('camelyonpatch_level_2_split_train_x.h5', 'r')['x'][:, 16:80,16:80] - 127.5) / 127.5\n",
    "    y_train = h5py.File('camelyonpatch_level_2_split_train_y.h5', 'r')['y'][:].reshape(-1,1)\n",
    "    x_test = (h5py.File('camelyonpatch_level_2_split_test_x.h5', 'r')['x'][:, 16:80,16:80] - 127.5) / 127.5\n",
    "    y_test = h5py.File('camelyonpatch_level_2_split_test_y.h5', 'r')['y'][:].reshape(-1,1)\n",
    "    x_valid = (h5py.File('camelyonpatch_level_2_split_valid_x.h5', 'r')['x'][:, 16:80,16:80] - 127.5) / 127.5\n",
    "    y_valid = h5py.File('camelyonpatch_level_2_split_valid_y.h5', 'r')['y'][:].reshape(-1,1)\n",
    "              \n",
    "    return x_train, y_train, x_test, y_test, x_valid, y_valid\n",
    "\n",
    "def plot_samples(samples, folder=None, epoch=None, i=None):\n",
    "    rt = int(np.sqrt(samples.shape[0]))\n",
    "    r, c = rt, rt\n",
    "    # r, c = 6, 12\n",
    "\n",
    "    generatedImage = 0.5 * samples + 0.5\n",
    "\n",
    "    fig = plt.figure(figsize=(10,10))\n",
    "\n",
    "    axs = [fig.add_subplot(r,c,i+1) for i in range(r*c)]\n",
    "    cnt = 0\n",
    "    for ax in axs:\n",
    "        ax.imshow(generatedImage[cnt],interpolation='nearest')\n",
    "        ax.axis('off')\n",
    "        ax.set_aspect('equal')\n",
    "        cnt+=1\n",
    "    fig.subplots_adjust(wspace=.004, hspace=.02)\n",
    "\n",
    "    if folder:\n",
    "        path = 'results/'+folder+'/samples'\n",
    "        if not os.path.exists('results'):\n",
    "            os.mkdir('results')\n",
    "        if not os.path.exists('results/'+folder):\n",
    "            os.mkdir('results/'+folder)\n",
    "        if not os.path.exists(path):\n",
    "            os.mkdir(path)\n",
    "        step = \"\"\n",
    "        if i:\n",
    "            step = '_'+str(i)\n",
    "        fig.savefig(path+'/epoch_%d%s.png' % (epoch, step))\n",
    "        plt.close()\n"
   ]
  },
  {
   "cell_type": "code",
   "execution_count": 3,
   "metadata": {},
   "outputs": [
    {
     "name": "stdout",
     "output_type": "stream",
     "text": [
      "/home/aray/pathology_gan\n",
      "26214\n"
     ]
    },
    {
     "data": {
      "image/png": "[encoded data removed]",
      "text/plain": [
       "<Figure size 432x288 with 1 Axes>"
      ]
     },
     "metadata": {
      "needs_background": "light"
     },
     "output_type": "display_data"
    }
   ],
   "source": [
    "%cd \"~/pathology_gan\"\n",
    "\n",
    "x_train, y_train, x_test, y_test, x_valid, y_valid = load_data()\n",
    "\n",
    "x_train = torch.from_numpy(np.moveaxis(x_train.astype(np.float32), -1, 1))\n",
    "x_test  = torch.from_numpy(np.moveaxis(x_test.astype(np.float32), -1, 1))\n",
    "x_valid  = torch.from_numpy(np.moveaxis(x_valid.astype(np.float32), -1, 1))\n",
    "\n",
    "y_train = torch.from_numpy(y_train).float() \n",
    "y_test = torch.from_numpy(y_test).float() \n",
    "y_valid = torch.from_numpy(y_valid).float() \n",
    "\n",
    "# X = torch.from_numpy(np.moveaxis(np.concatenate([x_train, x_test, x_valid]).astype(np.float32), -1, 1))\n",
    "# y = torch.from_numpy(np.concatenate([y_train, y_test, y_valid]))\n",
    "\n",
    "# trainloader = DataLoader(TensorDataset(x_train, y_train), batch_size=128, shuffle=True, num_workers=0, pin_memory=True)\n",
    "validloader = DataLoader(TensorDataset(x_valid, y_valid), batch_size=128, shuffle=True, num_workers=0, pin_memory=True)\n",
    "\n",
    "percent = int(x_train.shape[0]*.1)\n",
    "np.random.seed(17)\n",
    "idx_small = np.random.choice(range(x_train.shape[0]), percent, replace=False)\n",
    "\n",
    "x_train_small = x_train[idx_small]\n",
    "y_train_small = y_train[idx_small]\n",
    "trainloader = DataLoader(TensorDataset(x_train_small, y_train_small), batch_size=128, shuffle=True, num_workers=0, pin_memory=True)\n",
    "\n",
    "plt.hist(y_train_small.numpy(), bins=2)\n",
    "print(percent)"
   ]
  },
  {
   "cell_type": "code",
   "execution_count": 4,
   "metadata": {},
   "outputs": [],
   "source": [
    "y_train_small = y_train_small.type(torch.LongTensor)\n",
    "y_valid=y_valid.type(torch.LongTensor)\n",
    "trainloader = DataLoader(TensorDataset(x_train_small, y_train_small), batch_size=128, shuffle=True, num_workers=0, pin_memory=True)\n",
    "validloader = DataLoader(TensorDataset(x_valid, y_valid), batch_size=128, shuffle=True, num_workers=0, pin_memory=True)\n"
   ]
  },
  {
   "cell_type": "code",
   "execution_count": 5,
   "metadata": {},
   "outputs": [],
   "source": [
    "# noise = np.random.normal(0,1,size=(16,100))\n",
    "# imgs = saved_actor.predict(noise)\n",
    "# plot_samples(imgs)\n",
    "\n",
    "# imgs_real = .5+.5*np.moveaxis(x_train[np.random.choice(range(x_train.shape[0]), 12*6, replace=False)], -1, 1)\n",
    "# plot_samples(x_train[np.random.choice(range(x_train.shape[0]), 12*6, replace=False)])\n",
    "# print(imgs_real.shape)\n",
    "# plt.figure(figsize=(24,12))\n",
    "# plt.imshow(np.transpose(make_grid(torch.from_numpy(imgs_real), nrow=12, ).numpy(), (1, 2, 0)))"
   ]
  },
  {
   "cell_type": "code",
   "execution_count": 6,
   "metadata": {},
   "outputs": [],
   "source": [
    "class Generator(nn.Module):\n",
    "    def __init__(self, w, h, c, latent_dim):\n",
    "        super(Generator, self).__init__()\n",
    "        \n",
    "        self.w = w\n",
    "        self.h = h\n",
    "        self.c = c\n",
    "        self.latent_dim = latent_dim\n",
    "        \n",
    "        self.n_filters = 128\n",
    "        \n",
    "        self.input = nn.Sequential(\n",
    "            nn.Linear(latent_dim, self.n_filters * w//4 * h//4),\n",
    "            nn.ReLU()\n",
    "        )\n",
    "        \n",
    "        self.deconv = nn.Sequential(\n",
    "            nn.Upsample(size=[w//2, h//2], mode='nearest'),\n",
    "            nn.Conv2d(self.n_filters, self.n_filters//2, 3, stride=1, padding=1),\n",
    "            nn.ReLU(True),\n",
    "            \n",
    "            nn.Upsample(size=[w, h], mode='nearest'),\n",
    "            nn.Conv2d(self.n_filters//2, self.n_filters//4, 4, stride=2, padding=1),\n",
    "            nn.ReLU(True),\n",
    "            \n",
    "            nn.Upsample(size=[w, h], mode='nearest'),\n",
    "            nn.Conv2d(self.n_filters//4, self.n_filters//8, 3, stride=1, padding=1),\n",
    "            nn.ReLU(True),\n",
    "\n",
    "            nn.Upsample(size=[w, h], mode='nearest'),\n",
    "            nn.Conv2d(self.n_filters//8, self.n_filters//16, 4, stride=2, padding=1),\n",
    "            nn.ReLU(True),\n",
    "\n",
    "            nn.Upsample(size=[w, h], mode='nearest'),\n",
    "            nn.Conv2d(self.n_filters//16, self.n_filters//32, 3, stride=1, padding=1),\n",
    "            nn.ReLU(True),\n",
    "\n",
    "            nn.Conv2d(self.n_filters//32, c, 3, stride=1, padding=1),\n",
    "            nn.Tanh()\n",
    "        )\n",
    "\n",
    "    def forward(self, x):\n",
    "        output = self.input(x)\n",
    "        # print(output.shape)\n",
    "        output = output.view(-1, self.n_filters, self.w//4, self.h//4)\n",
    "        # print(output.shape)\n",
    "        return self.deconv(output) #.view(-1, self.w, self.h, self.c)\n",
    "\n",
    "class Discriminator(nn.Module):\n",
    "    def __init__(self, h, w, c):\n",
    "        super(Discriminator, self).__init__()\n",
    "        \n",
    "        self.w = w\n",
    "        self.h = h\n",
    "        self.c = c\n",
    "        n_filters = 32\n",
    "\n",
    "        self.conv = nn.Sequential(\n",
    "            nn.Conv2d(c, n_filters, 4, stride=2, padding=1),\n",
    "            nn.LeakyReLU(0.2),\n",
    "            nn.Dropout2d(p=0.2),\n",
    "            nn.Conv2d(n_filters, 2*n_filters, 4, stride=2, padding=1),\n",
    "            nn.LeakyReLU(0.2),\n",
    "            nn.Dropout2d(p=0.2),\n",
    "            nn.Conv2d(2*n_filters, 4*n_filters, 4, stride=2, padding=1),\n",
    "            nn.LeakyReLU(0.2),\n",
    "            nn.Flatten()\n",
    "        )\n",
    "        self.fc = nn.Linear(4*n_filters*int(w/2**3)*int(h/2**3), 2, bias=True)\n",
    "\n",
    "    def forward(self, x, clf=True, dropout=True):\n",
    "        flatten = self.conv(x)\n",
    "        if dropout:\n",
    "            flatten = F.dropout(flatten, p=0.5)\n",
    "        \n",
    "        out = self.fc(flatten)\n",
    "        \n",
    "        if clf:\n",
    "            return F.softmax(out, dim=1)\n",
    "\n",
    "#         expsum = torch.exp(out).sum(dim=1)\n",
    "#         out = expsum/(expsum+1)\n",
    "        return out, flatten\n",
    "\n"
   ]
  },
  {
   "cell_type": "code",
   "execution_count": 9,
   "metadata": {},
   "outputs": [],
   "source": [
    "class SSL_WGAN:\n",
    "    def __init__(self, w, h, c, model_name, latent_dim=100):\n",
    "        self.model_name = model_name\n",
    "        self.latent_dim = latent_dim \n",
    "        self.lambda_gp = 10\n",
    "        self.lambda_ct = 2\n",
    "        self.d_iterations = 5\n",
    "        self.print_every = 10\n",
    "        # CT multiplier\n",
    "        self.M = .1\n",
    "        self.use_cuda = True\n",
    "        self.D = Discriminator(w, h, c)\n",
    "        self.G = Generator(w, h, c, latent_dim)\n",
    "\n",
    "        lr = 1e-4\n",
    "        betas = (.9, .99)\n",
    "\n",
    "        self.Clf_opt = optim.Adam(self.D.parameters(), lr=lr/2, betas=betas)\n",
    "        self.Clf_criterion = torch.nn.CrossEntropyLoss()\n",
    "        \n",
    "        self.D_opt = optim.Adam(self.D.parameters(), lr=lr, betas=betas)\n",
    "        self.G_opt = optim.Adam(self.G.parameters(), lr=lr, betas=betas)\n",
    "\n",
    "\n",
    "        if self.use_cuda:\n",
    "            self.D = self.D.cuda()\n",
    "            self.G = self.G.cuda()\n",
    "\n",
    "        if not os.path.exists('results/'+model_name):\n",
    "            os.mkdir('results/'+model_name)\n",
    "\n",
    "    def train(self, train_loader, validation_loader, X_unlabled, epochs, save_training_gif=True):\n",
    "#         print(n_samples, n_samples//128)\n",
    "        if save_training_gif:\n",
    "            # Fix latents to see how image generation improves during training\n",
    "            self.fixed_latents = torch.randn((12*6, self.latent_dim))\n",
    "            if self.use_cuda:\n",
    "                self.fixed_latents = self.fixed_latents.cuda()\n",
    "            self.training_progress_images = []\n",
    "\n",
    "        self.stats = {\n",
    "            'clf_loss': [],\n",
    "            'clf_acc': [],\n",
    "            'clf_loss_val': [],\n",
    "            'clf_acc_val': [],\n",
    "            'g_loss': [],\n",
    "            'd_loss': [],\n",
    "            'd_loss_real': [],\n",
    "            'd_loss_fake': [],\n",
    "            'gp': [],\n",
    "            'ct': [],\n",
    "            \n",
    "        }\n",
    "\n",
    "        for epoch in range(epochs):\n",
    "            clf_loss = []\n",
    "            clf_acc = []\n",
    "            g_loss = []\n",
    "            d_loss = []\n",
    "            d_loss_fake = []\n",
    "            d_loss_real = []\n",
    "            gradient_penalty = []\n",
    "            consistency_term = []\n",
    "\n",
    "#             for i, data in tqdm(enumerate(train_loader), desc=\"epoch \"+str(epoch)):\n",
    "            for i, data in enumerate(train_loader):\n",
    "#                 if i%((n_samples//128)//100)==0:\n",
    "#                     print(\".\", end=\"\", flush=True)\n",
    "                X = data[0]\n",
    "                y = data[1].view(-1)\n",
    "                batch_size = X.shape[0]\n",
    "                idx_u = np.random.choice(X_unlabled.shape[0], batch_size, replace=False)\n",
    "                X_u = X_unlabled[idx_u]\n",
    "                if self.use_cuda:\n",
    "                    X_u = X_u.cuda()\n",
    "                    X = X.cuda()\n",
    "                    y = y.cuda()\n",
    "                    \n",
    "                loss, acc = self._train_Clf(X, y)\n",
    "                clf_loss.append(loss)\n",
    "                clf_acc.append(acc)                                \n",
    "                    \n",
    "                ct, loss, gp = self._train_D(X_u)\n",
    "#                 d_loss_real.append(r)\n",
    "#                 d_loss_fake.append(g)\n",
    "                gradient_penalty.append(gp)\n",
    "                consistency_term.append(ct)\n",
    "                d_loss.append(loss)\n",
    "                \n",
    "                # Only update generator every |d_iterations| iterations\n",
    "#                 if i % self.d_iterations == 0:\n",
    "                g_loss.append(self._train_G1(X_u))\n",
    "            \n",
    "            if epoch % 20 == 0:\n",
    "                acc_val = self._eval_Clf(validation_loader)\n",
    "                clf_loss_m = sum(clf_loss)/len(clf_loss)\n",
    "                clf_acc_m = sum(clf_acc)/len(clf_acc)     \n",
    "                g_loss_m = sum(g_loss)/len(g_loss)\n",
    "                d_loss_m = sum(d_loss)/len(d_loss)\n",
    "#                 real_m = sum(d_loss_real)/len(d_loss_real)\n",
    "#                 fake_m = sum(d_loss_fake)/len(d_loss_fake)\n",
    "                gp_m = sum(gradient_penalty)/len(gradient_penalty)\n",
    "                ct_m = sum(consistency_term)/len(consistency_term)\n",
    "                self.stats['clf_loss'].append(clf_loss_m)\n",
    "                self.stats['clf_acc'].append(clf_acc_m)\n",
    "    #             self.stats['clf_loss_val'].append(loss_val)\n",
    "                self.stats['clf_acc_val'].append(acc_val)\n",
    "                self.stats['g_loss'].append(g_loss_m)\n",
    "                self.stats['d_loss'].append(d_loss_m)\n",
    "#                 self.stats['d_loss_real'].append(real_m)\n",
    "#                 self.stats['d_loss_fake'].append(fake_m)\n",
    "                self.stats['gp'].append(gp_m)\n",
    "                self.stats['ct'].append(ct_m)\n",
    "                print(\"Epoch: %d, G loss: %f\"%(epoch, g_loss_m))\n",
    "                print(\"Clf loss: %f, acc: %.3f, acc_val: %.3f\"%(clf_loss_m, clf_acc_m, acc_val))\n",
    "                print(\"D loss: %f; ct: %f, gp: %f\"%(d_loss_m, ct_m, gp_m))\n",
    "            \n",
    "            if epoch % 50 == 0:\n",
    "                with torch.no_grad():\n",
    "                    self.G.eval()\n",
    "#                     self.D.eval()\n",
    "#                     print(self.D(X_unlabled[:10].cuda()).view(-1))\n",
    "#                     self.D.train()\n",
    "                    imgs = self.G(torch.randn((16, self.latent_dim)).cuda()).cpu().numpy()\n",
    "                    plot_samples(np.moveaxis(imgs, 1,-1), self.model_name, epoch)\n",
    "                    self.G.train()\n",
    "\n",
    "            if  epoch % 20 == 0 and save_training_gif:\n",
    "                with torch.no_grad():\n",
    "                    self.G.eval()\n",
    "                    img_grid = vutils.make_grid(self.G(self.fixed_latents).cpu(), nrow=12).numpy()\n",
    "                    # (width, height, channels)\n",
    "                    img_grid = .5+.5*np.transpose(img_grid, (1, 2, 0))\n",
    "                    self.training_progress_images.append(img_grid)\n",
    "                    self.G.train()\n",
    "\n",
    "            # if i % self.print_every == 0:\n",
    "            #     print(\"Iteration {}\".format(i + 1))\n",
    "            #     print(\"D: {}\".format(self.losses['D'][-1]))\n",
    "            #     print(\"GP: {}\".format(self.losses['GP'][-1]))\n",
    "            #     print(\"Gradient norm: {}\".format(self.losses['gradient_norm'][-1]))\n",
    "            #     if self.num_steps > self.critic_iterations:\n",
    "            #         print(\"G: {}\".format(self.losses['G'][-1]))\n",
    "\n",
    "        if save_training_gif:\n",
    "            imageio.mimsave('results/'+self.model_name+'/training_{}_epochs.gif'.format(epochs), self.training_progress_images)\n",
    "\n",
    "    def _eval_Clf(self, validation_loader):\n",
    "        self.D.eval()        \n",
    "        with torch.no_grad():\n",
    "            acc = .0\n",
    "            for i, data in enumerate(validation_loader):\n",
    "                X = data[0]\n",
    "                y = data[1].view(-1)\n",
    "                if self.use_cuda:\n",
    "                    X = X.cuda()\n",
    "                    y = y.cuda()\n",
    "                predicted = torch.argmax(self.D(X), dim=1)\n",
    "                acc+=(predicted == y).sum()/float(predicted.shape[0])       \n",
    "        self.D.train()\n",
    "        return (acc/(i+1)).detach().item()\n",
    "\n",
    "#     def _train_Clf(self, data, labels):\n",
    "#         self.D_opt.zero_grad()\n",
    "        \n",
    "#         predicted = self.D(data, clf=True)\n",
    "    \n",
    "#         loss = self.Clf_criterion(predicted, labels)\n",
    "        \n",
    "#         loss.backward()\n",
    "#         self.Clf_opt.step()    \n",
    "      \n",
    "#         acc = (predicted.detach().cpu() == labels.detach().cpu()).sum()/float(predicted.shape[0])\n",
    "\n",
    "#         return loss.detach().item(), acc\n",
    "    \n",
    "    def _train_Clf(self, data, labels):\n",
    "        self.D_opt.zero_grad()\n",
    "        \n",
    "        predicted = self.D(data, clf=True, dropout=True)\n",
    "    \n",
    "        loss = self.Clf_criterion(predicted, labels)\n",
    "        \n",
    "        loss.backward()\n",
    "        self.Clf_opt.step()    \n",
    "      \n",
    "        acc = (torch.argmax(predicted.detach().cpu(), dim=1) == labels.detach().cpu()).sum()/float(predicted.shape[0])\n",
    "\n",
    "        return loss.detach().item(), acc\n",
    "        \n",
    "#     def _D_loss(self, out):\n",
    "#         expsum = torch.exp(out).sum(dim=1)\n",
    "#         return expsum/(expsum+1)    \n",
    "    \n",
    "    def _train_D(self, data):\n",
    "        self.D_opt.zero_grad()\n",
    "\n",
    "        batch_size = data.shape[0]\n",
    "        generated_data = self.sample_generator(batch_size)\n",
    "        \n",
    "        real_fc1, real_flatten1 = self.D(data, clf=False)\n",
    "        real_fc2, real_flatten2 = self.D(data, clf=False)\n",
    "        gen_fc, _ = self.D(generated_data, clf=False)\n",
    "       \n",
    "        ct = ((torch.softmax(real_fc1, dim=1) - torch.softmax(real_fc2, dim=1))**2).mean(dim=1) - self.M\n",
    "        ct = torch.max(ct, torch.zeros_like(ct)).mean(dim=0)\n",
    "\n",
    "        gen_mean = F.softplus(torch.logsumexp(gen_fc, dim=1)).mean()\n",
    "        real_mean = F.softplus(torch.logsumexp(real_fc1, dim=1)).mean()\n",
    "        \n",
    "        gp = self._gradient_penalty(data, generated_data)\n",
    "\n",
    "        d_loss =  0.5*(self.lambda_ct*ct - torch.logsumexp(real_fc1, dim=1).mean() + real_mean + gen_mean)+self.lambda_gp*gp\n",
    "        \n",
    "        d_loss.backward()\n",
    "        self.D_opt.step()\n",
    "\n",
    "\n",
    "        return ct.detach().item(), d_loss.detach().item(), gp.detach().item()\n",
    "\n",
    "#     def _train_G(self, batch_size):\n",
    "#         for p in self.D.parameters():\n",
    "#             p.requires_grad = False\n",
    "            \n",
    "#         self.G_opt.zero_grad()\n",
    "\n",
    "#         # Get generated data\n",
    "#         generated_data = self.sample_generator(batch_size)\n",
    "\n",
    "#         # Calculate loss and optimize\n",
    "#         d_generated, _ = self.D(generated_data, clf=False)\n",
    "#         g_loss = -d_generated.mean()\n",
    "#         g_loss.backward()\n",
    "#         self.G_opt.step()\n",
    "        \n",
    "#         for p in self.D.parameters():\n",
    "#             p.requires_grad = True\n",
    "\n",
    "        return g_loss.detach().item()\n",
    "    \n",
    "    def _train_G1(self, real_data):\n",
    "        for p in self.D.parameters():\n",
    "            p.requires_grad = False\n",
    "            \n",
    "        self.G_opt.zero_grad()\n",
    "\n",
    "        batch_size = real_data.shape[0]\n",
    "        generated_data = self.sample_generator(batch_size)\n",
    "\n",
    "        _, d_real_output = self.D(real_data, clf=False, dropout=False)\n",
    "        _, d_gen_output = self.D(generated_data, clf=False, dropout=False)\n",
    "\n",
    "        g_loss = ((d_gen_output.mean(dim=0)-d_real_output.mean(dim=0))**2).mean()\n",
    "        g_loss.backward()\n",
    "        self.G_opt.step()\n",
    "        \n",
    "        for p in self.D.parameters():\n",
    "            p.requires_grad = True\n",
    "\n",
    "        return g_loss.detach().item()    \n",
    "\n",
    "    def _gradient_penalty(self, real_data, generated_data):\n",
    "        batch_size = real_data.shape[0]\n",
    "\n",
    "        # Calculate interpolation\n",
    "        alpha = torch.rand(batch_size, 1, 1, 1)\n",
    "        alpha = alpha.expand_as(real_data)\n",
    "        if self.use_cuda:\n",
    "            alpha = alpha.cuda()\n",
    "        interpolated = alpha * real_data + (1 - alpha) * generated_data\n",
    "        if self.use_cuda:\n",
    "            interpolated = interpolated.cuda()\n",
    "\n",
    "        # Calculate probability of interpolated examples\n",
    "        dis_interpolated, _ = self.D(interpolated, clf=False)\n",
    "        grad_outputs = torch.ones(dis_interpolated.shape)\n",
    "        if self.use_cuda:\n",
    "            grad_outputs=grad_outputs.cuda()\n",
    "\n",
    "        # Calculate gradients of probabilities with respect to examples\n",
    "        gradients = autograd.grad(outputs=dis_interpolated, inputs=interpolated,\n",
    "                               grad_outputs=grad_outputs, create_graph=True, retain_graph=True)[0]\n",
    "\n",
    "        # Gradients have shape (batch_size, num_channels, img_width, img_height),\n",
    "        # so flatten to easily take norm per example in batch\n",
    "        gradients = gradients.view(batch_size, -1)\n",
    "#         self.losses['gradient_norm'].append(gradients.norm(2, dim=1).mean().data[0])\n",
    "\n",
    "        # Derivatives of the gradient close to 0 can cause problems because of\n",
    "        # the square root, so manually calculate norm and add epsilon\n",
    "        gradients_norm = ((torch.sqrt(torch.sum(gradients ** 2, dim=1) + 1e-12) - 1) ** 2).mean()\n",
    "        # Return gradient penalty\n",
    "        return gradients_norm #((gradients.norm(2, dim=1) - 1) ** 2).mean()\n",
    "\n",
    "#     def _consistency_term(self, real_data):\n",
    "#         d1, d_1 = self.D(real_data, clf=False)\n",
    "#         d2, d_2 = self.D(real_data, clf=False)\n",
    "\n",
    "# #         ct = (d1 - d2).norm(2, dim=1) + 0.1 * (d_1 - d_2).norm(2, dim=1) - self.M\n",
    "#         ct = self.lambda_ct*((d1.view(-1) - d2.view(-1))**2+0.1*((d_1.view(-1) - d_2.view(-1))**2).mean()) - self.M\n",
    "#         return torch.max(ct, torch.zeros_like(ct)).mean()\n",
    "        \n",
    "    def sample_generator(self, num_samples):\n",
    "        latent_samples = torch.randn((num_samples, self.latent_dim), requires_grad=True)\n",
    "        if self.use_cuda:\n",
    "            latent_samples = latent_samples.cuda()\n",
    "        generated_data = self.G(latent_samples)\n",
    "        return generated_data\n",
    "\n",
    "    def sample(self, num_samples):\n",
    "        generated_data = self.sample_generator(num_samples)\n",
    "        # Remove color channel\n",
    "        return generated_data.data.cpu().numpy()[:, 0, :, :]"
   ]
  },
  {
   "cell_type": "code",
   "execution_count": null,
   "metadata": {},
   "outputs": [
    {
     "name": "stdout",
     "output_type": "stream",
     "text": [
      "Epoch: 0, G loss: 0.060940\n",
      "Clf loss: 0.622590, acc: 0.664, acc_val: 0.737\n",
      "D loss: 2.145309; ct: 0.006697, gp: 0.172351\n",
      "Epoch: 20, G loss: 0.004431\n",
      "Clf loss: 0.544860, acc: 0.755, acc_val: 0.751\n",
      "D loss: 0.232932; ct: 0.007361, gp: 0.004593\n",
      "Epoch: 40, G loss: 0.003657\n",
      "Clf loss: 0.547228, acc: 0.755, acc_val: 0.754\n",
      "D loss: 0.264242; ct: 0.012859, gp: 0.004205\n",
      "Epoch: 60, G loss: 0.001968\n",
      "Clf loss: 0.545721, acc: 0.755, acc_val: 0.741\n",
      "D loss: 0.314338; ct: 0.011344, gp: 0.003220\n",
      "Epoch: 80, G loss: 0.001885\n",
      "Clf loss: 0.536275, acc: 0.766, acc_val: 0.759\n",
      "D loss: 0.321649; ct: 0.013241, gp: 0.003207\n",
      "Epoch: 100, G loss: 0.001757\n",
      "Clf loss: 0.559450, acc: 0.746, acc_val: 0.731\n",
      "D loss: 0.298760; ct: 0.012972, gp: 0.003094\n",
      "Epoch: 120, G loss: 0.001654\n",
      "Clf loss: 0.557326, acc: 0.749, acc_val: 0.739\n",
      "D loss: 0.285970; ct: 0.014008, gp: 0.002868\n",
      "Epoch: 140, G loss: 0.001402\n",
      "Clf loss: 0.553794, acc: 0.753, acc_val: 0.746\n",
      "D loss: 0.283715; ct: 0.014316, gp: 0.002705\n",
      "Epoch: 160, G loss: 0.001344\n",
      "Clf loss: 0.552375, acc: 0.755, acc_val: 0.746\n",
      "D loss: 0.283610; ct: 0.013863, gp: 0.002497\n",
      "Epoch: 180, G loss: 0.001407\n",
      "Clf loss: 0.552038, acc: 0.756, acc_val: 0.755\n",
      "D loss: 0.281967; ct: 0.014089, gp: 0.002433\n",
      "Epoch: 200, G loss: 0.001376\n",
      "Clf loss: 0.549764, acc: 0.758, acc_val: 0.747\n",
      "D loss: 0.286956; ct: 0.015012, gp: 0.002389\n",
      "Epoch: 220, G loss: 0.001365\n",
      "Clf loss: 0.547007, acc: 0.761, acc_val: 0.748\n",
      "D loss: 0.279481; ct: 0.014400, gp: 0.002399\n"
     ]
    }
   ],
   "source": [
    "wgan_ct = SSL_WGAN(64, 64, 3, 'ssl_wgan2_gp_010')\n",
    "wgan_ct.train(trainloader, validloader, x_train, 10000, x_train.shape[0])"
   ]
  },
  {
   "cell_type": "code",
   "execution_count": 127,
   "metadata": {},
   "outputs": [
    {
     "name": "stdout",
     "output_type": "stream",
     "text": [
      "491\n"
     ]
    },
    {
     "data": {
      "text/plain": [
       "0.79931640625"
      ]
     },
     "execution_count": 127,
     "metadata": {},
     "output_type": "execute_result"
    }
   ],
   "source": [
    "import csv\n",
    "with open('results/ssl_wgan_010/ct.csv', 'w', newline='') as myfile:\n",
    "    wr = csv.writer(myfile)\n",
    "    wr.writerow(wgan_ct.stats['ct'])\n",
    "print(np.argmax(wgan_ct.stats['clf_acc_val']))\n",
    "wgan_ct.stats['clf_acc_val'][499]"
   ]
  },
  {
   "cell_type": "code",
   "execution_count": 13,
   "metadata": {},
   "outputs": [
    {
     "data": {
      "text/plain": [
       "<matplotlib.legend.Legend at 0x7f61a17dedd8>"
      ]
     },
     "execution_count": 13,
     "metadata": {},
     "output_type": "execute_result"
    },
    {
     "data": {
      "image/png": "[encoded data removed]",
      "text/plain": [
       "<Figure size 1296x360 with 1 Axes>"
      ]
     },
     "metadata": {
      "needs_background": "light"
     },
     "output_type": "display_data"
    },
    {
     "data": {
      "image/png": "[encoded data removed]",
      "text/plain": [
       "<Figure size 1296x360 with 1 Axes>"
      ]
     },
     "metadata": {
      "needs_background": "light"
     },
     "output_type": "display_data"
    },
    {
     "data": {
      "image/png": "[encoded data removed]",
      "text/plain": [
       "<Figure size 1296x360 with 1 Axes>"
      ]
     },
     "metadata": {
      "needs_background": "light"
     },
     "output_type": "display_data"
    },
    {
     "data": {
      "image/png": "[encoded data removed]",
      "text/plain": [
       "<Figure size 1296x360 with 1 Axes>"
      ]
     },
     "metadata": {
      "needs_background": "light"
     },
     "output_type": "display_data"
    }
   ],
   "source": [
    "plt.figure(figsize=(18,5))\n",
    "plt.plot(wgan_ct.stats['gp'], label='GP')\n",
    "\n",
    "plt.plot(wgan_ct.stats['ct'], label='CT')\n",
    "plt.xlabel('Epochs x20')\n",
    "plt.ylabel('Loss')\n",
    "plt.legend()\n",
    "\n",
    "\n",
    "\n",
    "plt.figure(figsize=(18,5))\n",
    "plt.plot(wgan_ct.stats['clf_loss'], label='Clf train')\n",
    "plt.xlabel('Epochs x20')\n",
    "plt.ylabel('Loss')\n",
    "plt.legend()\n",
    "\n",
    "plt.figure(figsize=(18,5))\n",
    "plt.plot(wgan_ct.stats['d_loss'], label='D')\n",
    "plt.plot(wgan_ct.stats['g_loss'], label='G')\n",
    "plt.xlabel('Epochs x20')\n",
    "plt.ylabel('Loss')\n",
    "plt.legend()\n",
    "\n",
    "plt.figure(figsize=(18,5))\n",
    "plt.plot(wgan_ct.stats['clf_acc'], label='Train')\n",
    "plt.plot(wgan_ct.stats['clf_acc_val'], label='Validation')\n",
    "plt.xlabel('Epochs x20')\n",
    "plt.ylabel('Acc')\n",
    "plt.legend()"
   ]
  },
  {
   "cell_type": "code",
   "execution_count": 8,
   "metadata": {},
   "outputs": [
    {
     "data": {
      "text/plain": [
       "tensor(0.5439, device='cuda:0', grad_fn=<MeanBackward0>)"
      ]
     },
     "execution_count": 8,
     "metadata": {},
     "output_type": "execute_result"
    }
   ],
   "source": [
    "wgan_ct._consistency_term(X[:10].cuda())"
   ]
  },
  {
   "cell_type": "code",
   "execution_count": 11,
   "metadata": {},
   "outputs": [],
   "source": [
    "data = X[:10].cuda()\n",
    "d1, d_1 = wgan_ct.D(data)\n",
    "d2, d_2 = wgan_ct.D(data)"
   ]
  },
  {
   "cell_type": "code",
   "execution_count": 12,
   "metadata": {},
   "outputs": [
    {
     "name": "stdout",
     "output_type": "stream",
     "text": [
      "torch.Size([10, 1]) torch.Size([10, 8192])\n"
     ]
    }
   ],
   "source": [
    "print(d1.shape, d_1.shape)"
   ]
  },
  {
   "cell_type": "code",
   "execution_count": 49,
   "metadata": {},
   "outputs": [
    {
     "data": {
      "text/plain": [
       "tensor([0.0012, 0.0061, 0.0044, 0.0043, 0.0034, 0.0013, 0.0010, 0.0051, 0.0062,\n",
       "        0.0117], device='cuda:0', grad_fn=<MulBackward0>)"
      ]
     },
     "execution_count": 49,
     "metadata": {},
     "output_type": "execute_result"
    }
   ],
   "source": [
    "ct = 2.0*((d1.view(-1) - d2.view(-1))**2+0.1*((d_1.view(-1) - d_2.view(-1))**2).mean())\n",
    "torch.max(ct,torch.zeros_like(ct)).mean()\n",
    "ct"
   ]
  },
  {
   "cell_type": "code",
   "execution_count": 45,
   "metadata": {},
   "outputs": [
    {
     "data": {
      "text/plain": [
       "tensor([0., 0., 0., 0., 0., 0., 0., 0., 0., 0.], device='cuda:0')"
      ]
     },
     "execution_count": 45,
     "metadata": {},
     "output_type": "execute_result"
    }
   ],
   "source": []
  },
  {
   "cell_type": "code",
   "execution_count": 46,
   "metadata": {},
   "outputs": [
    {
     "data": {
      "text/plain": [
       "tensor([0., 0., 0., 0., 0., 0., 0., 0., 0., 0.], device='cuda:0',\n",
       "       grad_fn=<MaxBackward2>)"
      ]
     },
     "execution_count": 46,
     "metadata": {},
     "output_type": "execute_result"
    }
   ],
   "source": []
  },
  {
   "cell_type": "code",
   "execution_count": 31,
   "metadata": {},
   "outputs": [
    {
     "data": {
      "text/plain": [
       "tensor([0.0108, 0.0506, 0.0414, 0.0410, 0.0346, 0.0129, 0.0022, 0.0457, 0.0513,\n",
       "        0.0733], device='cuda:0', grad_fn=<SqrtBackward>)"
      ]
     },
     "execution_count": 31,
     "metadata": {},
     "output_type": "execute_result"
    }
   ],
   "source": [
    "((d1.view(-1) - d2.view(-1))**2).sqrt()"
   ]
  },
  {
   "cell_type": "code",
   "execution_count": 30,
   "metadata": {},
   "outputs": [
    {
     "data": {
      "text/plain": [
       "tensor(0.0364, device='cuda:0', grad_fn=<MeanBackward0>)"
      ]
     },
     "execution_count": 30,
     "metadata": {},
     "output_type": "execute_result"
    }
   ],
   "source": [
    "(d1 - d2).norm(2, dim=1).mean()"
   ]
  },
  {
   "cell_type": "code",
   "execution_count": 19,
   "metadata": {},
   "outputs": [
    {
     "name": "stdout",
     "output_type": "stream",
     "text": [
      "torch.Size([10, 32768])\n",
      "torch.Size([10, 128, 16, 16])\n"
     ]
    },
    {
     "data": {
      "text/plain": [
       "torch.Size([10, 3, 64, 64])"
      ]
     },
     "execution_count": 19,
     "metadata": {},
     "output_type": "execute_result"
    }
   ],
   "source": [
    "gen = Generator(64,64,3).cuda()\n",
    "noise = torch.FloatTensor(10, 100).normal_(0, 1).cuda()\n",
    "\n",
    "data_fake = gen(noise)\n",
    "data_fake.shape"
   ]
  },
  {
   "cell_type": "code",
   "execution_count": 155,
   "metadata": {},
   "outputs": [
    {
     "data": {
      "text/plain": [
       "torch.Size([10])"
      ]
     },
     "execution_count": 155,
     "metadata": {},
     "output_type": "execute_result"
    }
   ],
   "source": [
    "dis = Discriminator(64,64,3).cuda()\n",
    "dis(tmp)[0].shape\n"
   ]
  },
  {
   "cell_type": "code",
   "execution_count": null,
   "metadata": {},
   "outputs": [],
   "source": [
    "train_loader = torch.utils.data.DataLoader(\n",
    "    datasets.MNIST('../data', train=True, download=True,\n",
    "                   transform=transforms.Compose([\n",
    "                       transforms.ToTensor(),\n",
    "                   ])),\n",
    "    batch_size=BATCH_SIZE, shuffle=True)\n",
    "test_loader = torch.utils.data.DataLoader(\n",
    "    datasets.MNIST('../data', train=False, transform=transforms.Compose([\n",
    "                       transforms.ToTensor(),\n",
    "                   ])),\n",
    "    batch_size=BATCH_SIZE, shuffle=True)\n",
    "\n",
    "# ================== main script ======================\n",
    "\n",
    "netG = Generator()\n",
    "netG.apply(weights_init)\n",
    "netD = Discriminator()\n",
    "netD.apply(weights_init)\n",
    "\n",
    "print netG\n",
    "print netD\n",
    "\n",
    "if use_cuda:\n",
    "    netD = netD.cuda()\n",
    "    netG = netG.cuda()\n",
    "\n",
    "optimizerD = optim.Adam(netD.parameters(), lr=1e-4, betas=(0.5, 0.9))\n",
    "optimizerG = optim.Adam(netG.parameters(), lr=1e-4, betas=(0.5, 0.9))\n",
    "\n",
    "one = torch.FloatTensor([1])\n",
    "mone = one * -1\n",
    "zero = torch.FloatTensor([0])\n",
    "if use_cuda:\n",
    "    one = one.cuda()\n",
    "    mone = mone.cuda()\n",
    "    zero = zero.cuda()\n",
    "\n",
    "def dataset():\n",
    "    while 1:\n",
    "        for images,targets in train_loader:\n",
    "            #print(images)\n",
    "            yield images\n",
    "data=dataset()\n",
    "fixed_noise = Variable(torch.randn(100, NOISE_SZ).cuda(),requires_grad = False)\n",
    "\n",
    "for iteration in xrange(ITERS):\n",
    "    ############################\n",
    "    # (1) Update D network\n",
    "    ###########################\n",
    "    netD.train()\n",
    "    for p in netD.parameters():  \n",
    "        p.requires_grad = True  \n",
    "    for iter_d in xrange(CRITIC_ITERS):\n",
    "        _data = data.next()\n",
    "        real_data = torch.Tensor(_data)\n",
    "        if use_cuda:\n",
    "            real_data = real_data.cuda()\n",
    "        real_data_v = autograd.Variable(real_data)\n",
    "\n",
    "        netD.zero_grad()\n",
    "\n",
    "\n",
    "        # train with fake\n",
    "        noise = torch.randn(BATCH_SIZE, NOISE_SZ)\n",
    "        if use_cuda:\n",
    "            noise = noise.cuda()\n",
    "        noise_v = autograd.Variable(noise, volatile=True)  \n",
    "        fake = autograd.Variable(netG(noise_v).data)\n",
    "        D_fake1_1,D_fake1_2 = netD(fake)\n",
    "        D_fake1 = D_fake1_1.mean()\n",
    "        D_fake1.backward((one))\n",
    "\n",
    "        # train with gradient penalty\n",
    "        gradient_penalty = calc_gradient_penalty(netD, real_data_v.data, fake.data)\n",
    "        gradient_penalty.backward()\n",
    "               \n",
    "        # train with real\n",
    "        D_real1_1,D_real1_2 = netD(real_data_v)\n",
    "        D_real1 = D_real1_1.mean()      \n",
    "        D_real1.backward((mone),retain_graph=True)\n",
    "        \n",
    "        # train with CT penalty\n",
    "        D_real2_1,D_real2_2 = netD(real_data_v)\n",
    "\n",
    "        ct_penalty = LAMBDA_2*((D_real1_1-D_real2_1)**2)       \n",
    "        ct_penalty += LAMBDA_2*0.1*((D_real1_2-D_real2_2)**2).mean(dim=1)\n",
    "        ct_penalty = torch.max(Variable(torch.zeros(ct_penalty.size()).cuda() if use_cuda else torch.zeros(ct_penalty.size())),ct_penalty-Factor_M)\n",
    "        ct_penalty = ct_penalty.mean()\n",
    "        #print(ct_penalty)\n",
    "        ct_penalty.backward()\n",
    "\n",
    "        D_cost = -D_real1 + D_fake1 + gradient_penalty + ct_penalty\n",
    "        #print(-D_real1.data[0] , D_fake1.data[0] , gradient_penalty.data[0] ,ct_penalty.data[0])\n",
    "        #D_cost.backward()\n",
    "        Wasserstein_D = D_real1 - D_fake1\n",
    "        optimizerD.step()\n",
    "\n",
    "    #if not FIXED_GENERATOR:\n",
    "        ############################\n",
    "        # (2) Update G network\n",
    "        ###########################\n",
    "    netD.eval()\n",
    "    for p in netD.parameters():\n",
    "        p.requires_grad = False  \n",
    "    netG.zero_grad()\n",
    "\n",
    "    noise = torch.randn(BATCH_SIZE, NOISE_SZ)\n",
    "    if use_cuda:\n",
    "        noise = noise.cuda()\n",
    "    noisev = autograd.Variable(noise,requires_grad=True) \n",
    "    fake = netG(noisev)\n",
    "    G,_ = netD(fake)\n",
    "    G = G.mean()\n",
    "    G.backward(mone)\n",
    "    G_cost = -G\n",
    "    optimizerG.step()\n",
    "    print((iteration,D_cost.data[0],Wasserstein_D.data[0]))\n",
    "    if iteration%100==0:\n",
    "        fake = netG(fixed_noise).view(-1, 1,28,28)\n",
    "        vutils.save_image(fake.data,\n",
    "                    'fake_samples_epoch_%03d.png' %  iteration,\n",
    "                    normalize=True)\n",
    "\n",
    "torch.save(netG.state_dict(), 'netG_mnist.pth')\n",
    "torch.save(netD.state_dict(), 'netD_mnist.pth')"
   ]
  }
 ],
 "metadata": {
  "kernelspec": {
   "display_name": "Python 3",
   "language": "python",
   "name": "python3"
  },
  "language_info": {
   "codemirror_mode": {
    "name": "ipython",
    "version": 3
   },
   "file_extension": ".py",
   "mimetype": "text/x-python",
   "name": "python",
   "nbconvert_exporter": "python",
   "pygments_lexer": "ipython3",
   "version": "3.5.2"
  }
 },
 "nbformat": 4,
 "nbformat_minor": 4
}
